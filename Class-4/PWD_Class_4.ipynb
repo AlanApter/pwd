{
  "nbformat": 4,
  "nbformat_minor": 0,
  "metadata": {
    "colab": {
      "provenance": [],
      "collapsed_sections": []
    },
    "kernelspec": {
      "name": "python3",
      "display_name": "Python 3"
    },
    "language_info": {
      "name": "python"
    }
  },
  "cells": [
    {
      "cell_type": "markdown",
      "source": [
        "# Part 1: Exploring Python tuples"
      ],
      "metadata": {
        "id": "PfBmlqQKe5Nx"
      }
    },
    {
      "cell_type": "markdown",
      "source": [
        "1. Let's explore the use of a tuple in Python. The following tuple includes three elements."
      ],
      "metadata": {
        "id": "5kTRiSd8lJe9"
      }
    },
    {
      "cell_type": "code",
      "source": [
        "# A tuple is a collection which is ordered and unchangeable.\n",
        "\n",
        "tuple = (\"Stelios\",\"Mary\",\"Nick\")"
      ],
      "metadata": {
        "id": "oiw2bdL5lKNz"
      },
      "execution_count": 75,
      "outputs": []
    },
    {
      "cell_type": "markdown",
      "source": [
        "2. The next script exports the first element of your tuple."
      ],
      "metadata": {
        "id": "T1VZo5utlL9x"
      }
    },
    {
      "cell_type": "code",
      "source": [
        "print(tuple[0])"
      ],
      "metadata": {
        "colab": {
          "base_uri": "https://localhost:8080/"
        },
        "id": "W7-QPkT0lMEN",
        "outputId": "4c738fe8-f17f-43fe-924e-32ce92eb8b72"
      },
      "execution_count": 76,
      "outputs": [
        {
          "output_type": "stream",
          "name": "stdout",
          "text": [
            "Stelios\n"
          ]
        }
      ]
    },
    {
      "cell_type": "markdown",
      "source": [
        "3. You can use a for loop to extract the elements of a tuple as follows."
      ],
      "metadata": {
        "id": "Cb9YQKOrlc1F"
      }
    },
    {
      "cell_type": "code",
      "source": [
        "for name in tuple:\n",
        "  print(name)"
      ],
      "metadata": {
        "colab": {
          "base_uri": "https://localhost:8080/"
        },
        "id": "qX6qWuiLlc8y",
        "outputId": "acc215ad-5489-4058-8a1b-9d5a6364a8ce"
      },
      "execution_count": 77,
      "outputs": [
        {
          "output_type": "stream",
          "name": "stdout",
          "text": [
            "Stelios\n",
            "Mary\n",
            "Nick\n"
          ]
        }
      ]
    },
    {
      "cell_type": "markdown",
      "source": [
        "4. You can combine lists and tuples. The following script creates an array of two tuples, where each tuple includes two sub-elements. "
      ],
      "metadata": {
        "id": "8sz0WdxkllhR"
      }
    },
    {
      "cell_type": "code",
      "source": [
        "# Index:        0                   1 \n",
        "# Sub-index: 0        1          0      1\n",
        "\n",
        "data = [(\"Stelios\",\"London\"),(\"Mary\",\"Athens\")]"
      ],
      "metadata": {
        "id": "ip2gbMolllo4"
      },
      "execution_count": 78,
      "outputs": []
    },
    {
      "cell_type": "markdown",
      "source": [
        "5. You can print the first element of the data using the following script. This will print the element of index 0."
      ],
      "metadata": {
        "id": "VkSkRDFeluE2"
      }
    },
    {
      "cell_type": "code",
      "source": [
        "data[0]"
      ],
      "metadata": {
        "colab": {
          "base_uri": "https://localhost:8080/"
        },
        "id": "2Y3Dz8asluW9",
        "outputId": "be9f2a63-6515-44d5-e86a-e8ff36efac26"
      },
      "execution_count": 79,
      "outputs": [
        {
          "output_type": "execute_result",
          "data": {
            "text/plain": [
              "('Stelios', 'London')"
            ]
          },
          "metadata": {},
          "execution_count": 79
        }
      ]
    },
    {
      "cell_type": "markdown",
      "source": [
        "6. Now, print `Stelios` using the appropriate index numbers."
      ],
      "metadata": {
        "id": "Ok7gbvfVen0Z"
      }
    },
    {
      "cell_type": "code",
      "source": [
        "data[0][0]"
      ],
      "metadata": {
        "colab": {
          "base_uri": "https://localhost:8080/",
          "height": 38
        },
        "id": "J4nblhwRlwLY",
        "outputId": "bb189b9d-c7d8-4f12-b56c-c4f7f1359f0e"
      },
      "execution_count": 80,
      "outputs": [
        {
          "output_type": "execute_result",
          "data": {
            "text/plain": [
              "'Stelios'"
            ],
            "application/vnd.google.colaboratory.intrinsic+json": {
              "type": "string"
            }
          },
          "metadata": {},
          "execution_count": 80
        }
      ]
    },
    {
      "cell_type": "markdown",
      "source": [
        "7. Let's export the data using the appropriate index numbers in a for loop."
      ],
      "metadata": {
        "id": "MtGeIcHkfK9F"
      }
    },
    {
      "cell_type": "code",
      "source": [
        "for record in data:\n",
        "  print(record[0],\"-\",record[1])"
      ],
      "metadata": {
        "colab": {
          "base_uri": "https://localhost:8080/"
        },
        "id": "hrRcVupclya4",
        "outputId": "6c2e5632-502d-4fb6-da5a-640ac83f3c2f"
      },
      "execution_count": 81,
      "outputs": [
        {
          "output_type": "stream",
          "name": "stdout",
          "text": [
            "Stelios - London\n",
            "Mary - Athens\n"
          ]
        }
      ]
    },
    {
      "cell_type": "markdown",
      "source": [
        "> MySQL always returns results in the form of tuples, so always refer to the previous steps on how to manipulate tuple data."
      ],
      "metadata": {
        "id": "gxRA24TdeuZo"
      }
    },
    {
      "cell_type": "markdown",
      "source": [
        "# Part 2: Exploring MySQL with Python"
      ],
      "metadata": {
        "id": "2VBxXqlVe4ka"
      }
    },
    {
      "cell_type": "markdown",
      "source": [
        "In this tutorial we will use Python to connect to the MySQL and run our queries."
      ],
      "metadata": {
        "id": "hLJNuHjofBou"
      }
    },
    {
      "cell_type": "markdown",
      "source": [
        "1. The first step is to install the MySQL connector. Whenever you run MySQL connections in Google Colab, you will need to install the appropriate connector."
      ],
      "metadata": {
        "id": "2cbkmcr5fJMr"
      }
    },
    {
      "cell_type": "code",
      "execution_count": 82,
      "metadata": {
        "colab": {
          "base_uri": "https://localhost:8080/"
        },
        "id": "zhtnllnmTIhY",
        "outputId": "9cfd0fe3-f02a-44fa-a2eb-892851f1185c"
      },
      "outputs": [
        {
          "output_type": "stream",
          "name": "stdout",
          "text": [
            "Looking in indexes: https://pypi.org/simple, https://us-python.pkg.dev/colab-wheels/public/simple/\n",
            "Requirement already satisfied: mysql.connector in /usr/local/lib/python3.7/dist-packages (2.2.9)\n"
          ]
        }
      ],
      "source": [
        "!pip install mysql.connector"
      ]
    },
    {
      "cell_type": "markdown",
      "source": [
        "2. Now the connector is installed we can `import` it and use it. We can also import the Error package to help us explore issues while running our scripts."
      ],
      "metadata": {
        "id": "A1oNMX1STQAv"
      }
    },
    {
      "cell_type": "code",
      "source": [
        "import mysql.connector\n",
        "from mysql.connector import Error"
      ],
      "metadata": {
        "id": "fuEw_Kw1TQHg"
      },
      "execution_count": 83,
      "outputs": []
    },
    {
      "cell_type": "markdown",
      "source": [
        "3. Let's create a new server connection. The next script develops a function that creates a new connector. As you can see the script is totally customisable to your own MySQL server.\n",
        "\n",
        "> The try - except script will show an error if there is a connection problem.\n",
        "\n",
        "> Make sure you adjust the `host`,`user` and `password` to your own configurations based on your MySQL server."
      ],
      "metadata": {
        "id": "k-jYsPUPTSw5"
      }
    },
    {
      "cell_type": "code",
      "source": [
        "def create_server_connection(host_name, user_name, user_password):\n",
        "    connection = None\n",
        "    try:\n",
        "        connection = mysql.connector.connect(\n",
        "            host=host_name,\n",
        "            user=user_name,\n",
        "            passwd=user_password\n",
        "        )\n",
        "        print(\"MySQL Database connection successful\")\n",
        "    except Error as err:\n",
        "        print(f\"Error: '{err}'\")\n",
        "\n",
        "    return connection\n",
        "\n",
        "host = \"IP_ADDRESS\" # Add here your host IP address from the GCP\n",
        "user = \"root\"\n",
        "password = \"1234\" # Add here your password\n",
        "\n",
        "connection = create_server_connection(host, user, password)"
      ],
      "metadata": {
        "colab": {
          "base_uri": "https://localhost:8080/"
        },
        "id": "AC2giLveTS31",
        "outputId": "5e2368b0-eacf-4318-d7eb-c6ea54c77d28"
      },
      "execution_count": 84,
      "outputs": [
        {
          "output_type": "stream",
          "name": "stdout",
          "text": [
            "MySQL Database connection successful\n"
          ]
        }
      ]
    },
    {
      "cell_type": "markdown",
      "source": [
        "4. Let's create a cursor that allows row-by-row processing of the result sets. The next script creates a new database called `music_db`."
      ],
      "metadata": {
        "id": "X_sn7t-SULBz"
      }
    },
    {
      "cell_type": "code",
      "source": [
        "cursor = connection.cursor()\n",
        "cursor.execute(\"CREATE DATABASE music_db\")\n",
        "print(\"Database created successfully\")"
      ],
      "metadata": {
        "colab": {
          "base_uri": "https://localhost:8080/"
        },
        "id": "K8XmT8saULKC",
        "outputId": "c2173496-00c6-42d9-e1e5-6a066402e816"
      },
      "execution_count": 85,
      "outputs": [
        {
          "output_type": "stream",
          "name": "stdout",
          "text": [
            "Database created successfully\n"
          ]
        }
      ]
    },
    {
      "cell_type": "markdown",
      "source": [
        "5. Now, let's create a new connection to the `music_db` database. As you can see the `create_db_connection` function also accepts the `db_name`."
      ],
      "metadata": {
        "id": "xZZb-IGVU0y6"
      }
    },
    {
      "cell_type": "code",
      "source": [
        "def create_db_connection(host_name, user_name, user_password, db_name):\n",
        "    connection = None\n",
        "    try:\n",
        "        connection = mysql.connector.connect(\n",
        "            host=host_name,\n",
        "            user=user_name,\n",
        "            passwd=user_password,\n",
        "            database=db_name\n",
        "        )\n",
        "        print(\"MySQL Database connection successful\")\n",
        "    except Error as err:\n",
        "        print(f\"Error: '{err}'\")\n",
        "\n",
        "    return connection"
      ],
      "metadata": {
        "id": "uMB2QRzdU069"
      },
      "execution_count": 86,
      "outputs": []
    },
    {
      "cell_type": "markdown",
      "source": [
        "6. Now time to connect to the `music_db`. Make sure you adjust `host` and `password` one more time."
      ],
      "metadata": {
        "id": "UkPIh4GtU37B"
      }
    },
    {
      "cell_type": "code",
      "source": [
        "host = \"IP_ADDRESS\"\n",
        "user = \"root\"\n",
        "password = \"1234\"  \n",
        "database = \"music_db\"\n",
        "\n",
        "connection = create_db_connection(host, user, password,database)"
      ],
      "metadata": {
        "colab": {
          "base_uri": "https://localhost:8080/"
        },
        "id": "7JRHr47pU4BQ",
        "outputId": "4b431a48-bd68-4529-d456-c64e3c9ef596"
      },
      "execution_count": 87,
      "outputs": [
        {
          "output_type": "stream",
          "name": "stdout",
          "text": [
            "MySQL Database connection successful\n"
          ]
        }
      ]
    },
    {
      "cell_type": "markdown",
      "source": [
        "7. Create a new table called `instruments`. The table has five attributes as follows."
      ],
      "metadata": {
        "id": "BSAore4gVGS5"
      }
    },
    {
      "cell_type": "code",
      "source": [
        "create_instruments_table = \"\"\"\n",
        "CREATE TABLE instruments (\n",
        "  instrument_id INT PRIMARY KEY,\n",
        "  instrument_title VARCHAR(40) NOT NULL,\n",
        "  instrument_description TEXT NOT NULL,\n",
        "  instrument_type TEXT NOT NULL,\n",
        "  instrument_cost FLOAT NOT NULL\n",
        "  );\n",
        " \"\"\""
      ],
      "metadata": {
        "id": "2ZyvMdoUVGa-"
      },
      "execution_count": 88,
      "outputs": []
    },
    {
      "cell_type": "markdown",
      "source": [
        "8. Then, you have to create a cursor to run the query and commit the results."
      ],
      "metadata": {
        "id": "sH2PT6ZPVZqe"
      }
    },
    {
      "cell_type": "code",
      "source": [
        "cursor = connection.cursor()\n",
        "cursor.execute(create_instruments_table)\n",
        "connection.commit()\n",
        "print(\"Query successful\")"
      ],
      "metadata": {
        "colab": {
          "base_uri": "https://localhost:8080/"
        },
        "id": "B21leiI-VY9a",
        "outputId": "879668ea-f603-45c3-d789-8c678a42426c"
      },
      "execution_count": 89,
      "outputs": [
        {
          "output_type": "stream",
          "name": "stdout",
          "text": [
            "Query successful\n"
          ]
        }
      ]
    },
    {
      "cell_type": "markdown",
      "source": [
        "9. Now, create the `customers` table."
      ],
      "metadata": {
        "id": "D687qk_xVi3V"
      }
    },
    {
      "cell_type": "code",
      "source": [
        "create_customer_table = \"\"\"\n",
        "CREATE TABLE customers (\n",
        "  customer_id INT PRIMARY KEY,\n",
        "  customer_first_name VARCHAR(40) NOT NULL,\n",
        "  customer_last_name VARCHAR(40) NOT NULL,\n",
        "  customer_email VARCHAR(40) NOT NULL,\n",
        "  customer_dob DATE,\n",
        "  phone_no VARCHAR(20)\n",
        "  );\n",
        " \"\"\""
      ],
      "metadata": {
        "id": "0eRKvlKhVi-g"
      },
      "execution_count": 90,
      "outputs": []
    },
    {
      "cell_type": "markdown",
      "source": [
        "> This is a supporting scipt, in case fo an error, you can drop the table using the next command.\n",
        "\n",
        "> **Do not run this command.**"
      ],
      "metadata": {
        "id": "Y1QzkR8cXO9N"
      }
    },
    {
      "cell_type": "code",
      "source": [
        "# cursor = connection.cursor()\n",
        "# cursor.execute(\"DROP TABLE instruments;\")\n",
        "# print(\"Database created successfully\")"
      ],
      "metadata": {
        "id": "k8HgvW9nXPGd"
      },
      "execution_count": 91,
      "outputs": []
    },
    {
      "cell_type": "markdown",
      "source": [
        "10. The next script creates a function to allow you to execute queries. The function accepts a `connection` and the `query`."
      ],
      "metadata": {
        "id": "zkBW1dotVsT_"
      }
    },
    {
      "cell_type": "code",
      "source": [
        "def execute_query(connection, query):\n",
        "    cursor = connection.cursor()\n",
        "    try:\n",
        "        cursor.execute(query)\n",
        "        connection.commit()\n",
        "        print(\"Query successful\")\n",
        "    except Error as err:\n",
        "        print(f\"Error: '{err}'\")"
      ],
      "metadata": {
        "id": "oFBBA6IPVshl"
      },
      "execution_count": 92,
      "outputs": []
    },
    {
      "cell_type": "markdown",
      "source": [
        "11. Let's use the function to connect and run the `create_customer_table`."
      ],
      "metadata": {
        "id": "jyjcVkPtVwX3"
      }
    },
    {
      "cell_type": "code",
      "source": [
        "execute_query(connection,create_customer_table)"
      ],
      "metadata": {
        "colab": {
          "base_uri": "https://localhost:8080/"
        },
        "id": "yaQ8cn9FVweZ",
        "outputId": "3b3d1c45-1df2-44b1-b3ec-b3e60c7585e5"
      },
      "execution_count": 93,
      "outputs": [
        {
          "output_type": "stream",
          "name": "stdout",
          "text": [
            "Query successful\n"
          ]
        }
      ]
    },
    {
      "cell_type": "markdown",
      "source": [
        "12. Now, let's run the `SHOW DATABASES` command."
      ],
      "metadata": {
        "id": "qtZHY3RGV_om"
      }
    },
    {
      "cell_type": "code",
      "source": [
        "cursor = connection.cursor()\n",
        "cursor.execute(\"SHOW DATABASES;\")\n",
        "\n",
        "for (databases) in cursor:\n",
        "     print(databases[0])"
      ],
      "metadata": {
        "colab": {
          "base_uri": "https://localhost:8080/"
        },
        "id": "ru7hLk6sWaID",
        "outputId": "6b5e3593-91d5-40a5-fbb9-c7b17c1ce5eb"
      },
      "execution_count": 94,
      "outputs": [
        {
          "output_type": "stream",
          "name": "stdout",
          "text": [
            "bytearray(b'DBname')\n",
            "bytearray(b'Stelios')\n",
            "bytearray(b'film_db')\n",
            "bytearray(b'information_schema')\n",
            "bytearray(b'lab1_exercise_db')\n",
            "bytearray(b'movies_db')\n",
            "bytearray(b'music_db')\n",
            "bytearray(b'mydb')\n",
            "bytearray(b'mysql')\n",
            "bytearray(b'performance_schema')\n",
            "bytearray(b'school_db')\n",
            "bytearray(b'sys')\n",
            "bytearray(b'university_db')\n"
          ]
        }
      ]
    },
    {
      "cell_type": "markdown",
      "source": [
        "13. Now, let's run the `SHOW TABLES` command."
      ],
      "metadata": {
        "id": "Xso-Myj7XXtm"
      }
    },
    {
      "cell_type": "code",
      "source": [
        "cursor = connection.cursor()\n",
        "cursor.execute(\"SHOW TABLES;\")\n",
        "\n",
        "for (databases) in cursor:\n",
        "     print(databases[0])"
      ],
      "metadata": {
        "colab": {
          "base_uri": "https://localhost:8080/"
        },
        "id": "yXfj8OQWXXz9",
        "outputId": "34564a89-b2ba-421a-cd1c-87fc4a7e9343"
      },
      "execution_count": 95,
      "outputs": [
        {
          "output_type": "stream",
          "name": "stdout",
          "text": [
            "bytearray(b'customers')\n",
            "bytearray(b'instruments')\n"
          ]
        }
      ]
    },
    {
      "cell_type": "markdown",
      "source": [
        "14. Time to create a new table. You can first create a variable to store the query text."
      ],
      "metadata": {
        "id": "mMn4y4XSW6wz"
      }
    },
    {
      "cell_type": "code",
      "source": [
        "create_order_table = \"\"\"\n",
        "CREATE TABLE orders (\n",
        "  customer_id INT,\n",
        "  instrument_id INT,\n",
        "  oder_date DATE,\n",
        "  PRIMARY KEY(customer_id,instrument_id),\n",
        "  CONSTRAINT FK1 FOREIGN KEY (customer_id) REFERENCES customers(customer_id),\n",
        "  CONSTRAINT FK2 FOREIGN KEY (instrument_id) REFERENCES instruments(instrument_id)\n",
        "  );\n",
        " \"\"\""
      ],
      "metadata": {
        "id": "cKto5XyWV_vH"
      },
      "execution_count": 96,
      "outputs": []
    },
    {
      "cell_type": "markdown",
      "source": [
        "15. Then execute the query."
      ],
      "metadata": {
        "id": "xbQaholKWr76"
      }
    },
    {
      "cell_type": "code",
      "source": [
        "execute_query(connection,create_order_table)"
      ],
      "metadata": {
        "colab": {
          "base_uri": "https://localhost:8080/"
        },
        "id": "ik059aAZWsDU",
        "outputId": "cfc0126b-ed07-4b2f-d124-9c9e570f1643"
      },
      "execution_count": 97,
      "outputs": [
        {
          "output_type": "stream",
          "name": "stdout",
          "text": [
            "Query successful\n"
          ]
        }
      ]
    },
    {
      "cell_type": "markdown",
      "source": [
        "16. Now, let us populate the data for both `instruments`, `customers` and `orders`."
      ],
      "metadata": {
        "id": "Ria7OjGFYDDv"
      }
    },
    {
      "cell_type": "code",
      "source": [
        "pop_instruments = \"\"\"\n",
        "INSERT INTO instruments VALUES\n",
        "(1,  'Guitar', 'A Gibson Les Paul guitar, a fretted musical instrument that typically has six strings. ', 'Chordophone', 1500),\n",
        "(2,  'Guitar', 'A Fender Telecaster guitar, played by strumming or plucking the strings with the dominant hand', 'Chordophone', 100),\n",
        "(3,  'Piccolo', 'A Yamaha highest-pitched woodwind instrument of orchestras and military bands.', 'Woodwind', 1200),\n",
        "(4,  'Drum', 'A Pearl drum, a member of the percussion group of musical instruments', 'Membranophones', 600),\n",
        "(5,  'Saxophone', 'A Selmer saxophone with a conical body, usually made of brass. ', 'Woodwind ', 800);\n",
        "\"\"\"\n",
        "\n",
        "execute_query(connection, pop_instruments)"
      ],
      "metadata": {
        "colab": {
          "base_uri": "https://localhost:8080/"
        },
        "id": "lqgcn_ZmYDNX",
        "outputId": "dbe53c5c-73fe-4565-d018-873ca37e1dc2"
      },
      "execution_count": 98,
      "outputs": [
        {
          "output_type": "stream",
          "name": "stdout",
          "text": [
            "Query successful\n"
          ]
        }
      ]
    },
    {
      "cell_type": "code",
      "source": [
        "pop_customers = \"\"\"\n",
        "INSERT INTO customers VALUES\n",
        "(101, 'Mary', 'James', 'mary.james@pwd.com','1990-04-15','0712387436'),\n",
        "(102, 'Nick', 'Oliver', 'nick.oliver@pwd.com','1985-06-11','0783002133'),\n",
        "(103, 'Mary', 'Clark', 'mary.clark@pwd.com','2000-11-02','0701239936'),\n",
        "(104, 'Tom', 'Mack', 'tom.mack@pwd.com','1993-11-12','0728469112'),\n",
        "(105, 'Tim', 'James', 'tim.james@pwd.com','1996-10-12','0740117291');\n",
        "\"\"\"\n",
        "\n",
        "execute_query(connection, pop_customers)"
      ],
      "metadata": {
        "colab": {
          "base_uri": "https://localhost:8080/"
        },
        "id": "7nbDlmD3YLwL",
        "outputId": "029bd0d5-1478-4a85-ef32-46227270c5e3"
      },
      "execution_count": 99,
      "outputs": [
        {
          "output_type": "stream",
          "name": "stdout",
          "text": [
            "Query successful\n"
          ]
        }
      ]
    },
    {
      "cell_type": "code",
      "source": [
        "pop_orders = \"\"\"\n",
        "INSERT INTO orders VALUES\n",
        "(101,1,'2022-10-11'),\n",
        "(101,2,'2022-10-11'),\n",
        "(103,3,'2022-10-11'),\n",
        "(104,4,'2022-10-11'),\n",
        "(103,4,'2022-10-11'),\n",
        "(105,4,'2022-10-11'),\n",
        "(102,5,'2022-10-11'),\n",
        "(101,5,'2022-10-11');\n",
        "\"\"\"\n",
        "\n",
        "execute_query(connection, pop_orders)"
      ],
      "metadata": {
        "colab": {
          "base_uri": "https://localhost:8080/"
        },
        "id": "sweXA1Z9bsQi",
        "outputId": "e400aee9-0e83-4fbc-f387-5cc6bac5fde2"
      },
      "execution_count": 100,
      "outputs": [
        {
          "output_type": "stream",
          "name": "stdout",
          "text": [
            "Query successful\n"
          ]
        }
      ]
    },
    {
      "cell_type": "markdown",
      "source": [
        "17. Create a new query to retrieve customer data."
      ],
      "metadata": {
        "id": "vE56kXGGdFBK"
      }
    },
    {
      "cell_type": "code",
      "source": [
        "query = \"\"\"\n",
        "SELECT *\n",
        "FROM customers;\n",
        "\"\"\"\n",
        "\n",
        "cursor.execute(query)\n",
        "results = cursor.fetchall()\n",
        "\n",
        "for result in results:\n",
        "  print(result)"
      ],
      "metadata": {
        "colab": {
          "base_uri": "https://localhost:8080/"
        },
        "id": "7hdM5GMIdFIj",
        "outputId": "5b4ed43e-3bba-4fd6-e501-595b12d05b37"
      },
      "execution_count": 101,
      "outputs": [
        {
          "output_type": "stream",
          "name": "stdout",
          "text": [
            "(101, 'Mary', 'James', 'mary.james@pwd.com', datetime.date(1990, 4, 15), '0712387436')\n",
            "(102, 'Nick', 'Oliver', 'nick.oliver@pwd.com', datetime.date(1985, 6, 11), '0783002133')\n",
            "(103, 'Mary', 'Clark', 'mary.clark@pwd.com', datetime.date(2000, 11, 2), '0701239936')\n",
            "(104, 'Tom', 'Mack', 'tom.mack@pwd.com', datetime.date(1993, 11, 12), '0728469112')\n",
            "(105, 'Tim', 'James', 'tim.james@pwd.com', datetime.date(1996, 10, 12), '0740117291')\n"
          ]
        }
      ]
    },
    {
      "cell_type": "markdown",
      "source": [
        "18. Run the next query to export firstname and surname from your customers"
      ],
      "metadata": {
        "id": "6Pe5ct3GdSBH"
      }
    },
    {
      "cell_type": "code",
      "source": [
        "query = \"\"\"\n",
        "SELECT customer_first_name,customer_last_name\n",
        "FROM customers;\n",
        "\"\"\"\n",
        "\n",
        "cursor.execute(query)\n",
        "results = cursor.fetchall()\n",
        "\n",
        "for result in results:\n",
        "  print(\"First name:\",result[0],\" - Surname\",result[1])"
      ],
      "metadata": {
        "colab": {
          "base_uri": "https://localhost:8080/"
        },
        "id": "VUwliARNdRof",
        "outputId": "323d8d95-1d7e-4372-b266-588498c74a53"
      },
      "execution_count": 102,
      "outputs": [
        {
          "output_type": "stream",
          "name": "stdout",
          "text": [
            "First name: Mary  - Surname James\n",
            "First name: Nick  - Surname Oliver\n",
            "First name: Mary  - Surname Clark\n",
            "First name: Tom  - Surname Mack\n",
            "First name: Tim  - Surname James\n"
          ]
        }
      ]
    },
    {
      "cell_type": "markdown",
      "source": [
        "19. The next code creates a read query function. The function accepts the connection and the query and it runs it."
      ],
      "metadata": {
        "id": "p8UxRuecdmvB"
      }
    },
    {
      "cell_type": "code",
      "source": [
        "def read_query(connection, query):\n",
        "    cursor = connection.cursor()\n",
        "    result = None\n",
        "    try:\n",
        "        cursor.execute(query)\n",
        "        result = cursor.fetchall()\n",
        "        return result\n",
        "    except Error as err:\n",
        "        print(f\"Error: '{err}'\")"
      ],
      "metadata": {
        "id": "e-YSYp45dm1w"
      },
      "execution_count": 103,
      "outputs": []
    },
    {
      "cell_type": "markdown",
      "source": [
        "20. The next query retrieves customer first name, last name and instrument title."
      ],
      "metadata": {
        "id": "us0wV5FfeAR9"
      }
    },
    {
      "cell_type": "code",
      "source": [
        "query1 = \"\"\"\n",
        "SELECT customer_first_name,customer_last_name,instrument_title\n",
        "FROM customers,orders,instruments\n",
        "WHERE \n",
        "customers.customer_id=orders.customer_id\n",
        "AND\n",
        "instruments.instrument_id=orders.instrument_id;\n",
        "\"\"\"\n",
        "results = read_query(connection, query1)\n",
        "\n",
        "for result in results:\n",
        "  print(result)"
      ],
      "metadata": {
        "colab": {
          "base_uri": "https://localhost:8080/"
        },
        "id": "E0apiIMWeAdH",
        "outputId": "babf5eba-ea38-4692-9219-e1e31510f762"
      },
      "execution_count": 104,
      "outputs": [
        {
          "output_type": "stream",
          "name": "stdout",
          "text": [
            "('Mary', 'James', 'Guitar')\n",
            "('Mary', 'James', 'Guitar')\n",
            "('Mary', 'James', 'Saxophone')\n",
            "('Nick', 'Oliver', 'Saxophone')\n",
            "('Mary', 'Clark', 'Piccolo')\n",
            "('Mary', 'Clark', 'Drum')\n",
            "('Tom', 'Mack', 'Drum')\n",
            "('Tim', 'James', 'Drum')\n"
          ]
        }
      ]
    },
    {
      "cell_type": "markdown",
      "source": [
        "21. The next query counts the amount of instruments in the intruments table."
      ],
      "metadata": {
        "id": "fQ7yO-VNfNQF"
      }
    },
    {
      "cell_type": "code",
      "source": [
        "query2 = \"\"\"\n",
        "SELECT instrument_title,count(instrument_title)\n",
        "FROM customers,orders,instruments\n",
        "WHERE \n",
        "customers.customer_id=orders.customer_id\n",
        "AND\n",
        "instruments.instrument_id=orders.instrument_id\n",
        "GROUP BY instrument_title;\n",
        "\"\"\"\n",
        "results = read_query(connection, query2)\n",
        "\n",
        "for result in results:\n",
        "  print(result)"
      ],
      "metadata": {
        "colab": {
          "base_uri": "https://localhost:8080/"
        },
        "id": "w3J7pVlnfNWR",
        "outputId": "2b9ed9e9-3c89-4f65-b9d7-337dbc781d30"
      },
      "execution_count": 105,
      "outputs": [
        {
          "output_type": "stream",
          "name": "stdout",
          "text": [
            "('Guitar', 2)\n",
            "('Saxophone', 2)\n",
            "('Piccolo', 1)\n",
            "('Drum', 3)\n"
          ]
        }
      ]
    },
    {
      "cell_type": "markdown",
      "source": [
        "22. How many instruments have been ordered by Mary James?"
      ],
      "metadata": {
        "id": "0lEO28jEfYWS"
      }
    },
    {
      "cell_type": "code",
      "source": [
        "query3 = \"\"\"\n",
        "SELECT customer_first_name,customer_last_name,count(customer_last_name)\n",
        "FROM customers,orders,instruments\n",
        "WHERE \n",
        "customers.customer_id=orders.customer_id\n",
        "AND\n",
        "instruments.instrument_id=orders.instrument_id\n",
        "AND customers.customer_first_name='Mary'\n",
        "AND customers.customer_last_name='James';\n",
        "\"\"\"\n",
        "results = read_query(connection, query3)\n",
        "\n",
        "for result in results:\n",
        "  print(result)"
      ],
      "metadata": {
        "colab": {
          "base_uri": "https://localhost:8080/"
        },
        "id": "SGTGAiRofYct",
        "outputId": "b77ec7b0-d724-483b-bc8d-70dc25d22367"
      },
      "execution_count": 106,
      "outputs": [
        {
          "output_type": "stream",
          "name": "stdout",
          "text": [
            "('Mary', 'James', 3)\n"
          ]
        }
      ]
    },
    {
      "cell_type": "markdown",
      "source": [
        "23. The next function counts how many instruments exist per person."
      ],
      "metadata": {
        "id": "T45vit4Pfex_"
      }
    },
    {
      "cell_type": "code",
      "source": [
        "def countIntrumentsPerPerson(first_name,last_name):\n",
        "  query = \"\"\"\n",
        "  SELECT customer_first_name,customer_last_name,count(customer_last_name)\n",
        "  FROM customers,orders,instruments\n",
        "  WHERE \n",
        "  customers.customer_id=orders.customer_id\n",
        "  AND\n",
        "  instruments.instrument_id=orders.instrument_id\n",
        "  AND customers.customer_first_name=%s\n",
        "  AND customers.customer_last_name=%s;\n",
        "  \"\"\"\n",
        "  cursor.execute(query,(first_name,last_name))\n",
        "  result = cursor.fetchall()\n",
        "  return result[0][2]"
      ],
      "metadata": {
        "id": "LjZwQuOufe4r"
      },
      "execution_count": 107,
      "outputs": []
    },
    {
      "cell_type": "markdown",
      "source": [
        "24. Let's use the function."
      ],
      "metadata": {
        "id": "vbR_B-6khssF"
      }
    },
    {
      "cell_type": "code",
      "source": [
        "first_name = input(\"What is the customer's first name? \")\n",
        "last_name = input(\"What is the customer's last name? \")\n",
        "\n",
        "num_of_instruments = countIntrumentsPerPerson(first_name,last_name)\n",
        "\n",
        "print(first_name,last_name,\"ordered\",num_of_instruments,\"instrument(s)!\")"
      ],
      "metadata": {
        "colab": {
          "base_uri": "https://localhost:8080/"
        },
        "id": "tgH8kyUOhsyf",
        "outputId": "9cbc4cce-3a67-41ac-8304-17c0ee4608f2"
      },
      "execution_count": 108,
      "outputs": [
        {
          "output_type": "stream",
          "name": "stdout",
          "text": [
            "What is the customer's first name? Mary\n",
            "What is the customer's last name? James\n",
            "Mary James ordered 3 instrument(s)!\n"
          ]
        }
      ]
    },
    {
      "cell_type": "markdown",
      "source": [
        "25. Let's create a function to retrieve instruments per person."
      ],
      "metadata": {
        "id": "yO13R1iAjFjE"
      }
    },
    {
      "cell_type": "code",
      "source": [
        "def showIntrumentsPerPerson(first_name,last_name):\n",
        "  query = \"\"\"\n",
        "  SELECT instruments.instrument_title\n",
        "  FROM customers,orders,instruments\n",
        "  WHERE \n",
        "  customers.customer_id=orders.customer_id\n",
        "  AND\n",
        "  instruments.instrument_id=orders.instrument_id\n",
        "  AND customers.customer_first_name=%s\n",
        "  AND customers.customer_last_name=%s;\n",
        "  \"\"\"\n",
        "  cursor.execute(query,(first_name,last_name))\n",
        "  result = cursor.fetchall()\n",
        "  return result"
      ],
      "metadata": {
        "id": "PZv9NagpjF0q"
      },
      "execution_count": 109,
      "outputs": []
    },
    {
      "cell_type": "markdown",
      "source": [
        "26. Let's use it."
      ],
      "metadata": {
        "id": "Ee2zYmy0jOPk"
      }
    },
    {
      "cell_type": "code",
      "source": [
        "first_name = input(\"What is the customer's first name? \")\n",
        "last_name = input(\"What is the customer's last name? \")\n",
        "\n",
        "num_of_instruments = showIntrumentsPerPerson(first_name,last_name)\n",
        "\n",
        "print(first_name,last_name,\"ordered:\",num_of_instruments)"
      ],
      "metadata": {
        "colab": {
          "base_uri": "https://localhost:8080/"
        },
        "id": "bpyjDBLYjOaX",
        "outputId": "3a31afc6-a2a3-485f-c49d-d49271788882"
      },
      "execution_count": 110,
      "outputs": [
        {
          "output_type": "stream",
          "name": "stdout",
          "text": [
            "What is the customer's first name? Mary\n",
            "What is the customer's last name? James\n",
            "Mary James ordered: [('Guitar',), ('Guitar',), ('Saxophone',)]\n"
          ]
        }
      ]
    },
    {
      "cell_type": "markdown",
      "source": [
        "27. Let's select all the data."
      ],
      "metadata": {
        "id": "h31vB1yT8kn2"
      }
    },
    {
      "cell_type": "code",
      "source": [
        "query2 = \"\"\"\n",
        "SELECT instrument_title,instrument_cost FROM instruments;\n",
        "\"\"\"\n",
        "results = read_query(connection, query2)\n",
        "\n",
        "for result in results:\n",
        "  print(result)"
      ],
      "metadata": {
        "colab": {
          "base_uri": "https://localhost:8080/"
        },
        "id": "wpoDAhAc8moh",
        "outputId": "69295feb-20a5-4868-e915-5b74c0bb34f5"
      },
      "execution_count": 111,
      "outputs": [
        {
          "output_type": "stream",
          "name": "stdout",
          "text": [
            "('Guitar', 1500.0)\n",
            "('Guitar', 100.0)\n",
            "('Piccolo', 1200.0)\n",
            "('Drum', 600.0)\n",
            "('Saxophone', 800.0)\n"
          ]
        }
      ]
    },
    {
      "cell_type": "markdown",
      "source": [
        "28. Now, let's update a record. We need to update instrument with id=5 to a new price of 1000"
      ],
      "metadata": {
        "id": "QKum4Q5b8nQI"
      }
    },
    {
      "cell_type": "code",
      "source": [
        "update = \"\"\"\n",
        "UPDATE instruments \n",
        "SET instrument_cost = 100\n",
        "WHERE instrument_id = 5;\n",
        "\"\"\"\n",
        "execute_query(connection, update)"
      ],
      "metadata": {
        "colab": {
          "base_uri": "https://localhost:8080/"
        },
        "id": "DDgVhEi_j5cX",
        "outputId": "a4e0f367-2650-45de-ac5b-0cd6a97af7ed"
      },
      "execution_count": 112,
      "outputs": [
        {
          "output_type": "stream",
          "name": "stdout",
          "text": [
            "Query successful\n"
          ]
        }
      ]
    },
    {
      "cell_type": "markdown",
      "source": [
        "29. Let's export the data to see the change."
      ],
      "metadata": {
        "id": "Yq7JPV2dkhZg"
      }
    },
    {
      "cell_type": "code",
      "source": [
        "query2 = \"\"\"\n",
        "SELECT instrument_title,instrument_cost FROM instruments;\n",
        "\"\"\"\n",
        "results = read_query(connection, query2)\n",
        "\n",
        "for result in results:\n",
        "  print(result)"
      ],
      "metadata": {
        "colab": {
          "base_uri": "https://localhost:8080/"
        },
        "id": "Ow6hXtefkuI3",
        "outputId": "5ddf2687-ab8e-4b53-990a-6df495222103"
      },
      "execution_count": 113,
      "outputs": [
        {
          "output_type": "stream",
          "name": "stdout",
          "text": [
            "('Guitar', 1500.0)\n",
            "('Guitar', 100.0)\n",
            "('Piccolo', 1200.0)\n",
            "('Drum', 600.0)\n",
            "('Saxophone', 100.0)\n"
          ]
        }
      ]
    },
    {
      "cell_type": "markdown",
      "source": [
        "30. Finally, the next script deletes the data."
      ],
      "metadata": {
        "id": "QuZwbcPbk6UR"
      }
    },
    {
      "cell_type": "markdown",
      "source": [
        "> First insert a new instrument."
      ],
      "metadata": {
        "id": "jgP2uj74IpBA"
      }
    },
    {
      "cell_type": "code",
      "source": [
        "pop_instruments = \"\"\"\n",
        "INSERT INTO instruments VALUES\n",
        "(6,  'Trumpet', 'The trumpet is a brass instrument commonly used in classical and jazz ensembles.', 'Brass ', 650);\n",
        "\"\"\"\n",
        "\n",
        "execute_query(connection, pop_instruments)"
      ],
      "metadata": {
        "colab": {
          "base_uri": "https://localhost:8080/"
        },
        "id": "8V1Re1VLIsGb",
        "outputId": "33a2b3b4-f7a4-459e-c04a-743b2ce7daa2"
      },
      "execution_count": 115,
      "outputs": [
        {
          "output_type": "stream",
          "name": "stdout",
          "text": [
            "Query successful\n"
          ]
        }
      ]
    },
    {
      "cell_type": "code",
      "source": [
        "delete_instrument = \"\"\"\n",
        "DELETE FROM instruments WHERE instrument_id = 6;\n",
        "\"\"\"\n",
        "\n",
        "execute_query(connection, delete_instrument)"
      ],
      "metadata": {
        "id": "kScuYr2Ok6j2",
        "colab": {
          "base_uri": "https://localhost:8080/"
        },
        "outputId": "8e3231d1-c229-4692-e78b-cb8e5317ef84"
      },
      "execution_count": 116,
      "outputs": [
        {
          "output_type": "stream",
          "name": "stdout",
          "text": [
            "Query successful\n"
          ]
        }
      ]
    }
  ]
}