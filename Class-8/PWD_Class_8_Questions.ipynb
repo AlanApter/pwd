{
  "nbformat": 4,
  "nbformat_minor": 0,
  "metadata": {
    "colab": {
      "provenance": [],
      "collapsed_sections": [
        "dOFWVa07cTIE"
      ]
    },
    "kernelspec": {
      "name": "python3",
      "display_name": "Python 3"
    }
  },
  "cells": [
    {
      "cell_type": "markdown",
      "metadata": {
        "id": "1dXudeZA0b7a"
      },
      "source": [
        "# **PART 1: Using Linear Regression with the Iris dataset to predict a flower's Sepal length**"
      ]
    },
    {
      "cell_type": "markdown",
      "metadata": {
        "id": "GSo4fjdu0cKJ"
      },
      "source": [
        "**Question 1:** Load the *Iris.csv* file in the Colab and *read* it as a dataframe."
      ]
    },
    {
      "cell_type": "code",
      "metadata": {
        "id": "OOPr0w9O0zbz",
        "colab": {
          "base_uri": "https://localhost:8080/",
          "height": 447
        },
        "outputId": "1636f915-34c8-4c97-e821-001dcec904ef"
      },
      "source": [
        "# Provide your solution here\n",
        "\n"
      ],
      "execution_count": null,
      "outputs": [
        {
          "output_type": "execute_result",
          "data": {
            "text/plain": [
              "     sepal.length  sepal.width  petal.length  petal.width    variety\n",
              "0             5.1          3.5           1.4          0.2     Setosa\n",
              "1             4.9          3.0           1.4          0.2     Setosa\n",
              "2             4.7          3.2           1.3          0.2     Setosa\n",
              "3             4.6          3.1           1.5          0.2     Setosa\n",
              "4             5.0          3.6           1.4          0.2     Setosa\n",
              "..            ...          ...           ...          ...        ...\n",
              "145           6.7          3.0           5.2          2.3  Virginica\n",
              "146           6.3          2.5           5.0          1.9  Virginica\n",
              "147           6.5          3.0           5.2          2.0  Virginica\n",
              "148           6.2          3.4           5.4          2.3  Virginica\n",
              "149           5.9          3.0           5.1          1.8  Virginica\n",
              "\n",
              "[150 rows x 5 columns]"
            ],
            "text/html": [
              "\n",
              "  <div id=\"df-b945b598-e12c-4566-96b2-327d89397059\">\n",
              "    <div class=\"colab-df-container\">\n",
              "      <div>\n",
              "<style scoped>\n",
              "    .dataframe tbody tr th:only-of-type {\n",
              "        vertical-align: middle;\n",
              "    }\n",
              "\n",
              "    .dataframe tbody tr th {\n",
              "        vertical-align: top;\n",
              "    }\n",
              "\n",
              "    .dataframe thead th {\n",
              "        text-align: right;\n",
              "    }\n",
              "</style>\n",
              "<table border=\"1\" class=\"dataframe\">\n",
              "  <thead>\n",
              "    <tr style=\"text-align: right;\">\n",
              "      <th></th>\n",
              "      <th>sepal.length</th>\n",
              "      <th>sepal.width</th>\n",
              "      <th>petal.length</th>\n",
              "      <th>petal.width</th>\n",
              "      <th>variety</th>\n",
              "    </tr>\n",
              "  </thead>\n",
              "  <tbody>\n",
              "    <tr>\n",
              "      <th>0</th>\n",
              "      <td>5.1</td>\n",
              "      <td>3.5</td>\n",
              "      <td>1.4</td>\n",
              "      <td>0.2</td>\n",
              "      <td>Setosa</td>\n",
              "    </tr>\n",
              "    <tr>\n",
              "      <th>1</th>\n",
              "      <td>4.9</td>\n",
              "      <td>3.0</td>\n",
              "      <td>1.4</td>\n",
              "      <td>0.2</td>\n",
              "      <td>Setosa</td>\n",
              "    </tr>\n",
              "    <tr>\n",
              "      <th>2</th>\n",
              "      <td>4.7</td>\n",
              "      <td>3.2</td>\n",
              "      <td>1.3</td>\n",
              "      <td>0.2</td>\n",
              "      <td>Setosa</td>\n",
              "    </tr>\n",
              "    <tr>\n",
              "      <th>3</th>\n",
              "      <td>4.6</td>\n",
              "      <td>3.1</td>\n",
              "      <td>1.5</td>\n",
              "      <td>0.2</td>\n",
              "      <td>Setosa</td>\n",
              "    </tr>\n",
              "    <tr>\n",
              "      <th>4</th>\n",
              "      <td>5.0</td>\n",
              "      <td>3.6</td>\n",
              "      <td>1.4</td>\n",
              "      <td>0.2</td>\n",
              "      <td>Setosa</td>\n",
              "    </tr>\n",
              "    <tr>\n",
              "      <th>...</th>\n",
              "      <td>...</td>\n",
              "      <td>...</td>\n",
              "      <td>...</td>\n",
              "      <td>...</td>\n",
              "      <td>...</td>\n",
              "    </tr>\n",
              "    <tr>\n",
              "      <th>145</th>\n",
              "      <td>6.7</td>\n",
              "      <td>3.0</td>\n",
              "      <td>5.2</td>\n",
              "      <td>2.3</td>\n",
              "      <td>Virginica</td>\n",
              "    </tr>\n",
              "    <tr>\n",
              "      <th>146</th>\n",
              "      <td>6.3</td>\n",
              "      <td>2.5</td>\n",
              "      <td>5.0</td>\n",
              "      <td>1.9</td>\n",
              "      <td>Virginica</td>\n",
              "    </tr>\n",
              "    <tr>\n",
              "      <th>147</th>\n",
              "      <td>6.5</td>\n",
              "      <td>3.0</td>\n",
              "      <td>5.2</td>\n",
              "      <td>2.0</td>\n",
              "      <td>Virginica</td>\n",
              "    </tr>\n",
              "    <tr>\n",
              "      <th>148</th>\n",
              "      <td>6.2</td>\n",
              "      <td>3.4</td>\n",
              "      <td>5.4</td>\n",
              "      <td>2.3</td>\n",
              "      <td>Virginica</td>\n",
              "    </tr>\n",
              "    <tr>\n",
              "      <th>149</th>\n",
              "      <td>5.9</td>\n",
              "      <td>3.0</td>\n",
              "      <td>5.1</td>\n",
              "      <td>1.8</td>\n",
              "      <td>Virginica</td>\n",
              "    </tr>\n",
              "  </tbody>\n",
              "</table>\n",
              "<p>150 rows × 5 columns</p>\n",
              "</div>\n",
              "      <button class=\"colab-df-convert\" onclick=\"convertToInteractive('df-b945b598-e12c-4566-96b2-327d89397059')\"\n",
              "              title=\"Convert this dataframe to an interactive table.\"\n",
              "              style=\"display:none;\">\n",
              "        \n",
              "  <svg xmlns=\"http://www.w3.org/2000/svg\" height=\"24px\"viewBox=\"0 0 24 24\"\n",
              "       width=\"24px\">\n",
              "    <path d=\"M0 0h24v24H0V0z\" fill=\"none\"/>\n",
              "    <path d=\"M18.56 5.44l.94 2.06.94-2.06 2.06-.94-2.06-.94-.94-2.06-.94 2.06-2.06.94zm-11 1L8.5 8.5l.94-2.06 2.06-.94-2.06-.94L8.5 2.5l-.94 2.06-2.06.94zm10 10l.94 2.06.94-2.06 2.06-.94-2.06-.94-.94-2.06-.94 2.06-2.06.94z\"/><path d=\"M17.41 7.96l-1.37-1.37c-.4-.4-.92-.59-1.43-.59-.52 0-1.04.2-1.43.59L10.3 9.45l-7.72 7.72c-.78.78-.78 2.05 0 2.83L4 21.41c.39.39.9.59 1.41.59.51 0 1.02-.2 1.41-.59l7.78-7.78 2.81-2.81c.8-.78.8-2.07 0-2.86zM5.41 20L4 18.59l7.72-7.72 1.47 1.35L5.41 20z\"/>\n",
              "  </svg>\n",
              "      </button>\n",
              "      \n",
              "  <style>\n",
              "    .colab-df-container {\n",
              "      display:flex;\n",
              "      flex-wrap:wrap;\n",
              "      gap: 12px;\n",
              "    }\n",
              "\n",
              "    .colab-df-convert {\n",
              "      background-color: #E8F0FE;\n",
              "      border: none;\n",
              "      border-radius: 50%;\n",
              "      cursor: pointer;\n",
              "      display: none;\n",
              "      fill: #1967D2;\n",
              "      height: 32px;\n",
              "      padding: 0 0 0 0;\n",
              "      width: 32px;\n",
              "    }\n",
              "\n",
              "    .colab-df-convert:hover {\n",
              "      background-color: #E2EBFA;\n",
              "      box-shadow: 0px 1px 2px rgba(60, 64, 67, 0.3), 0px 1px 3px 1px rgba(60, 64, 67, 0.15);\n",
              "      fill: #174EA6;\n",
              "    }\n",
              "\n",
              "    [theme=dark] .colab-df-convert {\n",
              "      background-color: #3B4455;\n",
              "      fill: #D2E3FC;\n",
              "    }\n",
              "\n",
              "    [theme=dark] .colab-df-convert:hover {\n",
              "      background-color: #434B5C;\n",
              "      box-shadow: 0px 1px 3px 1px rgba(0, 0, 0, 0.15);\n",
              "      filter: drop-shadow(0px 1px 2px rgba(0, 0, 0, 0.3));\n",
              "      fill: #FFFFFF;\n",
              "    }\n",
              "  </style>\n",
              "\n",
              "      <script>\n",
              "        const buttonEl =\n",
              "          document.querySelector('#df-b945b598-e12c-4566-96b2-327d89397059 button.colab-df-convert');\n",
              "        buttonEl.style.display =\n",
              "          google.colab.kernel.accessAllowed ? 'block' : 'none';\n",
              "\n",
              "        async function convertToInteractive(key) {\n",
              "          const element = document.querySelector('#df-b945b598-e12c-4566-96b2-327d89397059');\n",
              "          const dataTable =\n",
              "            await google.colab.kernel.invokeFunction('convertToInteractive',\n",
              "                                                     [key], {});\n",
              "          if (!dataTable) return;\n",
              "\n",
              "          const docLinkHtml = 'Like what you see? Visit the ' +\n",
              "            '<a target=\"_blank\" href=https://colab.research.google.com/notebooks/data_table.ipynb>data table notebook</a>'\n",
              "            + ' to learn more about interactive tables.';\n",
              "          element.innerHTML = '';\n",
              "          dataTable['output_type'] = 'display_data';\n",
              "          await google.colab.output.renderOutput(dataTable, element);\n",
              "          const docLink = document.createElement('div');\n",
              "          docLink.innerHTML = docLinkHtml;\n",
              "          element.appendChild(docLink);\n",
              "        }\n",
              "      </script>\n",
              "    </div>\n",
              "  </div>\n",
              "  "
            ]
          },
          "metadata": {},
          "execution_count": 1
        }
      ]
    },
    {
      "cell_type": "markdown",
      "metadata": {
        "id": "vwi5pbK-04f-"
      },
      "source": [
        "**Question 2:** Print the firts 4 rows of your dataframe.\n"
      ]
    },
    {
      "cell_type": "code",
      "metadata": {
        "id": "PItj0PKx08J4",
        "colab": {
          "base_uri": "https://localhost:8080/",
          "height": 196
        },
        "outputId": "089ee229-c549-498c-da67-921f0fc87543"
      },
      "source": [
        "# Provide your solution here\n",
        "\n"
      ],
      "execution_count": null,
      "outputs": [
        {
          "output_type": "execute_result",
          "data": {
            "text/plain": [
              "   sepal.length  sepal.width  petal.length  petal.width variety\n",
              "0           5.1          3.5           1.4          0.2  Setosa\n",
              "1           4.9          3.0           1.4          0.2  Setosa\n",
              "2           4.7          3.2           1.3          0.2  Setosa\n",
              "3           4.6          3.1           1.5          0.2  Setosa"
            ],
            "text/html": [
              "\n",
              "  <div id=\"df-d82b8d5a-9847-45ea-95ce-3ccb0cc84220\">\n",
              "    <div class=\"colab-df-container\">\n",
              "      <div>\n",
              "<style scoped>\n",
              "    .dataframe tbody tr th:only-of-type {\n",
              "        vertical-align: middle;\n",
              "    }\n",
              "\n",
              "    .dataframe tbody tr th {\n",
              "        vertical-align: top;\n",
              "    }\n",
              "\n",
              "    .dataframe thead th {\n",
              "        text-align: right;\n",
              "    }\n",
              "</style>\n",
              "<table border=\"1\" class=\"dataframe\">\n",
              "  <thead>\n",
              "    <tr style=\"text-align: right;\">\n",
              "      <th></th>\n",
              "      <th>sepal.length</th>\n",
              "      <th>sepal.width</th>\n",
              "      <th>petal.length</th>\n",
              "      <th>petal.width</th>\n",
              "      <th>variety</th>\n",
              "    </tr>\n",
              "  </thead>\n",
              "  <tbody>\n",
              "    <tr>\n",
              "      <th>0</th>\n",
              "      <td>5.1</td>\n",
              "      <td>3.5</td>\n",
              "      <td>1.4</td>\n",
              "      <td>0.2</td>\n",
              "      <td>Setosa</td>\n",
              "    </tr>\n",
              "    <tr>\n",
              "      <th>1</th>\n",
              "      <td>4.9</td>\n",
              "      <td>3.0</td>\n",
              "      <td>1.4</td>\n",
              "      <td>0.2</td>\n",
              "      <td>Setosa</td>\n",
              "    </tr>\n",
              "    <tr>\n",
              "      <th>2</th>\n",
              "      <td>4.7</td>\n",
              "      <td>3.2</td>\n",
              "      <td>1.3</td>\n",
              "      <td>0.2</td>\n",
              "      <td>Setosa</td>\n",
              "    </tr>\n",
              "    <tr>\n",
              "      <th>3</th>\n",
              "      <td>4.6</td>\n",
              "      <td>3.1</td>\n",
              "      <td>1.5</td>\n",
              "      <td>0.2</td>\n",
              "      <td>Setosa</td>\n",
              "    </tr>\n",
              "  </tbody>\n",
              "</table>\n",
              "</div>\n",
              "      <button class=\"colab-df-convert\" onclick=\"convertToInteractive('df-d82b8d5a-9847-45ea-95ce-3ccb0cc84220')\"\n",
              "              title=\"Convert this dataframe to an interactive table.\"\n",
              "              style=\"display:none;\">\n",
              "        \n",
              "  <svg xmlns=\"http://www.w3.org/2000/svg\" height=\"24px\"viewBox=\"0 0 24 24\"\n",
              "       width=\"24px\">\n",
              "    <path d=\"M0 0h24v24H0V0z\" fill=\"none\"/>\n",
              "    <path d=\"M18.56 5.44l.94 2.06.94-2.06 2.06-.94-2.06-.94-.94-2.06-.94 2.06-2.06.94zm-11 1L8.5 8.5l.94-2.06 2.06-.94-2.06-.94L8.5 2.5l-.94 2.06-2.06.94zm10 10l.94 2.06.94-2.06 2.06-.94-2.06-.94-.94-2.06-.94 2.06-2.06.94z\"/><path d=\"M17.41 7.96l-1.37-1.37c-.4-.4-.92-.59-1.43-.59-.52 0-1.04.2-1.43.59L10.3 9.45l-7.72 7.72c-.78.78-.78 2.05 0 2.83L4 21.41c.39.39.9.59 1.41.59.51 0 1.02-.2 1.41-.59l7.78-7.78 2.81-2.81c.8-.78.8-2.07 0-2.86zM5.41 20L4 18.59l7.72-7.72 1.47 1.35L5.41 20z\"/>\n",
              "  </svg>\n",
              "      </button>\n",
              "      \n",
              "  <style>\n",
              "    .colab-df-container {\n",
              "      display:flex;\n",
              "      flex-wrap:wrap;\n",
              "      gap: 12px;\n",
              "    }\n",
              "\n",
              "    .colab-df-convert {\n",
              "      background-color: #E8F0FE;\n",
              "      border: none;\n",
              "      border-radius: 50%;\n",
              "      cursor: pointer;\n",
              "      display: none;\n",
              "      fill: #1967D2;\n",
              "      height: 32px;\n",
              "      padding: 0 0 0 0;\n",
              "      width: 32px;\n",
              "    }\n",
              "\n",
              "    .colab-df-convert:hover {\n",
              "      background-color: #E2EBFA;\n",
              "      box-shadow: 0px 1px 2px rgba(60, 64, 67, 0.3), 0px 1px 3px 1px rgba(60, 64, 67, 0.15);\n",
              "      fill: #174EA6;\n",
              "    }\n",
              "\n",
              "    [theme=dark] .colab-df-convert {\n",
              "      background-color: #3B4455;\n",
              "      fill: #D2E3FC;\n",
              "    }\n",
              "\n",
              "    [theme=dark] .colab-df-convert:hover {\n",
              "      background-color: #434B5C;\n",
              "      box-shadow: 0px 1px 3px 1px rgba(0, 0, 0, 0.15);\n",
              "      filter: drop-shadow(0px 1px 2px rgba(0, 0, 0, 0.3));\n",
              "      fill: #FFFFFF;\n",
              "    }\n",
              "  </style>\n",
              "\n",
              "      <script>\n",
              "        const buttonEl =\n",
              "          document.querySelector('#df-d82b8d5a-9847-45ea-95ce-3ccb0cc84220 button.colab-df-convert');\n",
              "        buttonEl.style.display =\n",
              "          google.colab.kernel.accessAllowed ? 'block' : 'none';\n",
              "\n",
              "        async function convertToInteractive(key) {\n",
              "          const element = document.querySelector('#df-d82b8d5a-9847-45ea-95ce-3ccb0cc84220');\n",
              "          const dataTable =\n",
              "            await google.colab.kernel.invokeFunction('convertToInteractive',\n",
              "                                                     [key], {});\n",
              "          if (!dataTable) return;\n",
              "\n",
              "          const docLinkHtml = 'Like what you see? Visit the ' +\n",
              "            '<a target=\"_blank\" href=https://colab.research.google.com/notebooks/data_table.ipynb>data table notebook</a>'\n",
              "            + ' to learn more about interactive tables.';\n",
              "          element.innerHTML = '';\n",
              "          dataTable['output_type'] = 'display_data';\n",
              "          await google.colab.output.renderOutput(dataTable, element);\n",
              "          const docLink = document.createElement('div');\n",
              "          docLink.innerHTML = docLinkHtml;\n",
              "          element.appendChild(docLink);\n",
              "        }\n",
              "      </script>\n",
              "    </div>\n",
              "  </div>\n",
              "  "
            ]
          },
          "metadata": {},
          "execution_count": 2
        }
      ]
    },
    {
      "cell_type": "markdown",
      "metadata": {
        "id": "5jWnY8tu0-La"
      },
      "source": [
        "**Question 3:** How many empty rows per column are in our dataset?"
      ]
    },
    {
      "cell_type": "code",
      "metadata": {
        "id": "MpmLtcm01ApL",
        "colab": {
          "base_uri": "https://localhost:8080/"
        },
        "outputId": "bd69e393-e261-44a5-bcb3-d2e416101504"
      },
      "source": [
        "# Provide your solution here\n",
        "\n",
        "\n",
        "# There are: _______ empty rows"
      ],
      "execution_count": null,
      "outputs": [
        {
          "output_type": "execute_result",
          "data": {
            "text/plain": [
              "sepal.length    0\n",
              "sepal.width     0\n",
              "petal.length    0\n",
              "petal.width     0\n",
              "variety         0\n",
              "dtype: int64"
            ]
          },
          "metadata": {},
          "execution_count": 3
        }
      ]
    },
    {
      "cell_type": "markdown",
      "metadata": {
        "id": "gKGJqewT1CSh"
      },
      "source": [
        "**Question 4:** We will need to examine our dataset and decide if we can use Linear Regression for our analysis. \n",
        "\n",
        "Our problem question is: **Can we use the sepal width, petal length and petal width variable to predict the sepal length?**\n",
        "\n",
        "Let us plot a few scatterplots to examine the data and decide if Linear Regression is a candidate model for our problem.\n",
        "\n",
        "Run the following code to import the required libraries (Matplotlib and Seaborn)."
      ]
    },
    {
      "cell_type": "code",
      "metadata": {
        "colab": {
          "base_uri": "https://localhost:8080/"
        },
        "id": "pNG-5nLM1EOd",
        "outputId": "31b99007-e5fd-44a8-a8fb-7ecd4d9ecd8e"
      },
      "source": [
        "import pandas as pd\n",
        "\n",
        "# Matplotlib for additional customization\n",
        "from matplotlib import pyplot as plt\n",
        "%matplotlib inline\n",
        "\n",
        "# Seaborn for plotting and styling\n",
        "import seaborn as sns\n",
        "\n",
        "print(\"Matplotlib and Seaborn are imported\")"
      ],
      "execution_count": null,
      "outputs": [
        {
          "output_type": "stream",
          "name": "stdout",
          "text": [
            "Matplotlib and Seaborn are imported\n"
          ]
        }
      ]
    },
    {
      "cell_type": "markdown",
      "metadata": {
        "id": "St3g9RtR1FqU"
      },
      "source": [
        "**Question 5:** Create a scatterplot to demonstrate the relationships between **sepal length** (x) and **petal length** (y). If needed revise the class slides. Use as **hue** the variety."
      ]
    },
    {
      "cell_type": "code",
      "metadata": {
        "colab": {
          "base_uri": "https://localhost:8080/",
          "height": 767
        },
        "id": "mcoTCoOs1GDW",
        "outputId": "ab3b9d3f-9b85-4f6a-a50a-c141e0bb1969"
      },
      "source": [
        "#Provide your solution here (code can be found in the slides)\n",
        "\n"
      ],
      "execution_count": null,
      "outputs": [
        {
          "output_type": "execute_result",
          "data": {
            "text/plain": [
              "<seaborn.axisgrid.FacetGrid at 0x7fb69a89b750>"
            ]
          },
          "metadata": {},
          "execution_count": 5
        },
        {
          "output_type": "display_data",
          "data": {
            "text/plain": [
              "<Figure size 805x720 with 1 Axes>"
            ],
            "image/png": "[encoded data removed]"
          },
          "metadata": {
            "needs_background": "light"
          }
        }
      ]
    },
    {
      "cell_type": "markdown",
      "metadata": {
        "id": "E4U_pQUm1My3"
      },
      "source": [
        "**Question 6:** Create a scatterplot to demonstrate the relationships between **sepal width** (x) and **petal width** (y). Use as **hue** the variety."
      ]
    },
    {
      "cell_type": "code",
      "metadata": {
        "id": "UN73S-DW1OxM",
        "colab": {
          "base_uri": "https://localhost:8080/",
          "height": 767
        },
        "outputId": "2d21035e-5ee0-4054-8fc1-2ad06a9d4128"
      },
      "source": [
        "#Provide your solution here\n",
        "\n"
      ],
      "execution_count": null,
      "outputs": [
        {
          "output_type": "execute_result",
          "data": {
            "text/plain": [
              "<seaborn.axisgrid.FacetGrid at 0x7fb69a049d10>"
            ]
          },
          "metadata": {},
          "execution_count": 6
        },
        {
          "output_type": "display_data",
          "data": {
            "text/plain": [
              "<Figure size 805x720 with 1 Axes>"
            ],
            "image/png": "[encoded data removed]"
          },
          "metadata": {
            "needs_background": "light"
          }
        }
      ]
    },
    {
      "cell_type": "markdown",
      "metadata": {
        "id": "EG_m9U0g1Q-m"
      },
      "source": [
        "**Question 7:** Examine the diagrams, are there any linear relationships between the sepal and petal lengths and widths respectively? What about outliers and homoscedascticity."
      ]
    },
    {
      "cell_type": "code",
      "metadata": {
        "id": "1xyeytXb1RrY"
      },
      "source": [
        "# ________________\n",
        "# Outliers: ___________________\n",
        "# Homoscedascticity: ___________________"
      ],
      "execution_count": null,
      "outputs": []
    },
    {
      "cell_type": "markdown",
      "metadata": {
        "id": "s2tEAEoE1TL1"
      },
      "source": [
        "**Question 8:** Let us proceed with our analysis. We will need to split our dataset into independent data **(X)** and dependent data **(y)**. As discussed in class, the independent data is the data that our machine learning model will *learn* from in order to predict the dependent variable.\n",
        "\n",
        "We will use the sepal width, and the petal length and width to predict the sepal.length. In this case, we can skip the variety column in our model.\n",
        "\n",
        "\n",
        "So, the independent data is:\n",
        "*  sepal.width\n",
        "*  petal.length\n",
        "*  petal.width\n",
        "\n",
        "The dependent data is:\n",
        "*  sepal.length\n",
        "\n",
        "Extract the data for the dependent variables (and associated columns) and store it in a new dataframe called *iris_data_independent_data*. This will be the **X** variable.\n"
      ]
    },
    {
      "cell_type": "code",
      "metadata": {
        "id": "xeQGOQ4h1Vc6"
      },
      "source": [
        "# Provide your solution here\n",
        "\n"
      ],
      "execution_count": null,
      "outputs": []
    },
    {
      "cell_type": "markdown",
      "metadata": {
        "id": "-ZhmRoYQ1Xmp"
      },
      "source": [
        "**Question 9:** Now we will need to create the *iris_data_dependent_data* dataframe. The new dataframe will store only the dependent values. This will be the **y** variable."
      ]
    },
    {
      "cell_type": "code",
      "metadata": {
        "id": "PKBLEQLJ1Zn1"
      },
      "source": [
        "# Provide your solution here\n",
        "\n"
      ],
      "execution_count": null,
      "outputs": []
    },
    {
      "cell_type": "markdown",
      "metadata": {
        "id": "5W0tshnx1bgC"
      },
      "source": [
        "\n",
        "**Question 10:** Create the Linear Regression model.\n",
        "\n"
      ]
    },
    {
      "cell_type": "code",
      "metadata": {
        "id": "WxXXeKCd1euQ",
        "colab": {
          "base_uri": "https://localhost:8080/"
        },
        "outputId": "b8f1a2c6-ff27-4d4c-dfd3-be0ea20f8fea"
      },
      "source": [
        "# Provide your solution here\n",
        "\n"
      ],
      "execution_count": null,
      "outputs": [
        {
          "output_type": "execute_result",
          "data": {
            "text/plain": [
              "LinearRegression()"
            ]
          },
          "metadata": {},
          "execution_count": 10
        }
      ]
    },
    {
      "cell_type": "markdown",
      "metadata": {
        "id": "8F9oDmyP1hxk"
      },
      "source": [
        "**Question 11**: Print the 10th row of the Iris dataset."
      ]
    },
    {
      "cell_type": "code",
      "metadata": {
        "id": "boBD4xUS1p8Q",
        "colab": {
          "base_uri": "https://localhost:8080/"
        },
        "outputId": "c38da61d-1fe0-49d4-c4b8-2765988da9f9"
      },
      "source": [
        "# Provide your solution here\n",
        "\n"
      ],
      "execution_count": null,
      "outputs": [
        {
          "output_type": "execute_result",
          "data": {
            "text/plain": [
              "sepal.length       5.4\n",
              "sepal.width        3.7\n",
              "petal.length       1.5\n",
              "petal.width        0.2\n",
              "variety         Setosa\n",
              "Name: 10, dtype: object"
            ]
          },
          "metadata": {},
          "execution_count": 11
        }
      ]
    },
    {
      "cell_type": "markdown",
      "metadata": {
        "id": "3lUIktk81qfr"
      },
      "source": [
        "🚨\n",
        ">  The 10th shows that this flower has a sepal length *5.4* and sepal width 3.7, petal length 1.5 and petal width 0.2. "
      ]
    },
    {
      "cell_type": "markdown",
      "metadata": {
        "id": "Ioi2OTMn1wu5"
      },
      "source": [
        "**Question 12:** Let us test our Linear regression model using the data from row 10.\n",
        "\n",
        "In other words, using sepal width **3.7**, petal length **1.5** and petal width **0.2** we expect our model to predict a sepal length of **5.4**. Use these independent for your prediction.\n",
        "\n"
      ]
    },
    {
      "cell_type": "code",
      "metadata": {
        "id": "tRrCl4nh1yk2",
        "colab": {
          "base_uri": "https://localhost:8080/"
        },
        "outputId": "bb114a9d-2e30-455f-fcce-4f3559b8230a"
      },
      "source": [
        "# Provide your solution here\n",
        "\n"
      ],
      "execution_count": null,
      "outputs": [
        {
          "output_type": "stream",
          "name": "stderr",
          "text": [
            "/usr/local/lib/python3.7/dist-packages/sklearn/base.py:451: UserWarning: X does not have valid feature names, but LinearRegression was fitted with feature names\n",
            "  \"X does not have valid feature names, but\"\n"
          ]
        },
        {
          "output_type": "execute_result",
          "data": {
            "text/plain": [
              "array([[5.21649639]])"
            ]
          },
          "metadata": {},
          "execution_count": 12
        }
      ]
    },
    {
      "cell_type": "markdown",
      "metadata": {
        "id": "n6YwN_w512kD"
      },
      "source": [
        "🚨\n",
        "> That is not so bad! **We expected 5.4** and **we predicted 5.21**. We will discuss about result evaluation in the next class."
      ]
    },
    {
      "cell_type": "markdown",
      "metadata": {
        "id": "8PkbEDCE14Mo"
      },
      "source": [
        "**Question 13:** Let us try another example, print the data of row **111**."
      ]
    },
    {
      "cell_type": "code",
      "metadata": {
        "id": "Vhk4yFq416rF",
        "colab": {
          "base_uri": "https://localhost:8080/"
        },
        "outputId": "bfd9b206-b4ea-4235-dccc-ac0b798bff53"
      },
      "source": [
        "# Provide your solution here\n",
        "\n"
      ],
      "execution_count": null,
      "outputs": [
        {
          "output_type": "execute_result",
          "data": {
            "text/plain": [
              "sepal.length          6.4\n",
              "sepal.width           2.7\n",
              "petal.length          5.3\n",
              "petal.width           1.9\n",
              "variety         Virginica\n",
              "Name: 111, dtype: object"
            ]
          },
          "metadata": {},
          "execution_count": 13
        }
      ]
    },
    {
      "cell_type": "markdown",
      "metadata": {
        "id": "JZWnxE1W18YW"
      },
      "source": [
        "**Question 14:** Use the independent values of row ***111*** to predict the sepal length, then examine the output."
      ]
    },
    {
      "cell_type": "code",
      "metadata": {
        "id": "YZumcZ1r2AYc",
        "colab": {
          "base_uri": "https://localhost:8080/"
        },
        "outputId": "8dd872f4-a520-4f99-b622-9655c4a64ea5"
      },
      "source": [
        "# Provide your solution here\n",
        "\n",
        "\n",
        "# The actual sepal length is: _______\n",
        "# The predicted sepal length is: _______"
      ],
      "execution_count": null,
      "outputs": [
        {
          "output_type": "stream",
          "name": "stderr",
          "text": [
            "/usr/local/lib/python3.7/dist-packages/sklearn/base.py:451: UserWarning: X does not have valid feature names, but LinearRegression was fitted with feature names\n",
            "  \"X does not have valid feature names, but\"\n"
          ]
        },
        {
          "output_type": "execute_result",
          "data": {
            "text/plain": [
              "array([[6.31434015]])"
            ]
          },
          "metadata": {},
          "execution_count": 14
        }
      ]
    },
    {
      "cell_type": "markdown",
      "metadata": {
        "id": "5GMuNKfk2EV8"
      },
      "source": [
        "# **PART 2: Using Polynomial Regression (Optional activity)**"
      ]
    },
    {
      "cell_type": "markdown",
      "metadata": {
        "id": "e3-U1gwjzFMz"
      },
      "source": [
        "**Question 1.1:** Load the *Years_salary_data.csv* file in the Colab and *read* it as a dataframe.\n",
        "\n",
        "Print and examine the dataset. "
      ]
    },
    {
      "cell_type": "code",
      "metadata": {
        "colab": {
          "base_uri": "https://localhost:8080/",
          "height": 228
        },
        "id": "f1W-4BpD8gVk",
        "outputId": "0b29b0d5-8ece-43cc-81c4-1fc57f7295a0"
      },
      "source": [
        "\n",
        "import pandas as pd\n",
        "\n",
        "data_ys = pd.read_csv('Years_salary_data.csv')\n",
        "data_ys.head()"
      ],
      "execution_count": null,
      "outputs": [
        {
          "output_type": "execute_result",
          "data": {
            "text/plain": [
              "   Years  Salary\n",
              "0      5    2700\n",
              "1      6    3050\n",
              "2      7    3600\n",
              "3      8    3700\n",
              "4      9    3790"
            ],
            "text/html": [
              "\n",
              "  <div id=\"df-74ab5e2a-cb2f-424b-8f2d-0fe1d52d7dd8\">\n",
              "    <div class=\"colab-df-container\">\n",
              "      <div>\n",
              "<style scoped>\n",
              "    .dataframe tbody tr th:only-of-type {\n",
              "        vertical-align: middle;\n",
              "    }\n",
              "\n",
              "    .dataframe tbody tr th {\n",
              "        vertical-align: top;\n",
              "    }\n",
              "\n",
              "    .dataframe thead th {\n",
              "        text-align: right;\n",
              "    }\n",
              "</style>\n",
              "<table border=\"1\" class=\"dataframe\">\n",
              "  <thead>\n",
              "    <tr style=\"text-align: right;\">\n",
              "      <th></th>\n",
              "      <th>Years</th>\n",
              "      <th>Salary</th>\n",
              "    </tr>\n",
              "  </thead>\n",
              "  <tbody>\n",
              "    <tr>\n",
              "      <th>0</th>\n",
              "      <td>5</td>\n",
              "      <td>2700</td>\n",
              "    </tr>\n",
              "    <tr>\n",
              "      <th>1</th>\n",
              "      <td>6</td>\n",
              "      <td>3050</td>\n",
              "    </tr>\n",
              "    <tr>\n",
              "      <th>2</th>\n",
              "      <td>7</td>\n",
              "      <td>3600</td>\n",
              "    </tr>\n",
              "    <tr>\n",
              "      <th>3</th>\n",
              "      <td>8</td>\n",
              "      <td>3700</td>\n",
              "    </tr>\n",
              "    <tr>\n",
              "      <th>4</th>\n",
              "      <td>9</td>\n",
              "      <td>3790</td>\n",
              "    </tr>\n",
              "  </tbody>\n",
              "</table>\n",
              "</div>\n",
              "      <button class=\"colab-df-convert\" onclick=\"convertToInteractive('df-74ab5e2a-cb2f-424b-8f2d-0fe1d52d7dd8')\"\n",
              "              title=\"Convert this dataframe to an interactive table.\"\n",
              "              style=\"display:none;\">\n",
              "        \n",
              "  <svg xmlns=\"http://www.w3.org/2000/svg\" height=\"24px\"viewBox=\"0 0 24 24\"\n",
              "       width=\"24px\">\n",
              "    <path d=\"M0 0h24v24H0V0z\" fill=\"none\"/>\n",
              "    <path d=\"M18.56 5.44l.94 2.06.94-2.06 2.06-.94-2.06-.94-.94-2.06-.94 2.06-2.06.94zm-11 1L8.5 8.5l.94-2.06 2.06-.94-2.06-.94L8.5 2.5l-.94 2.06-2.06.94zm10 10l.94 2.06.94-2.06 2.06-.94-2.06-.94-.94-2.06-.94 2.06-2.06.94z\"/><path d=\"M17.41 7.96l-1.37-1.37c-.4-.4-.92-.59-1.43-.59-.52 0-1.04.2-1.43.59L10.3 9.45l-7.72 7.72c-.78.78-.78 2.05 0 2.83L4 21.41c.39.39.9.59 1.41.59.51 0 1.02-.2 1.41-.59l7.78-7.78 2.81-2.81c.8-.78.8-2.07 0-2.86zM5.41 20L4 18.59l7.72-7.72 1.47 1.35L5.41 20z\"/>\n",
              "  </svg>\n",
              "      </button>\n",
              "      \n",
              "  <style>\n",
              "    .colab-df-container {\n",
              "      display:flex;\n",
              "      flex-wrap:wrap;\n",
              "      gap: 12px;\n",
              "    }\n",
              "\n",
              "    .colab-df-convert {\n",
              "      background-color: #E8F0FE;\n",
              "      border: none;\n",
              "      border-radius: 50%;\n",
              "      cursor: pointer;\n",
              "      display: none;\n",
              "      fill: #1967D2;\n",
              "      height: 32px;\n",
              "      padding: 0 0 0 0;\n",
              "      width: 32px;\n",
              "    }\n",
              "\n",
              "    .colab-df-convert:hover {\n",
              "      background-color: #E2EBFA;\n",
              "      box-shadow: 0px 1px 2px rgba(60, 64, 67, 0.3), 0px 1px 3px 1px rgba(60, 64, 67, 0.15);\n",
              "      fill: #174EA6;\n",
              "    }\n",
              "\n",
              "    [theme=dark] .colab-df-convert {\n",
              "      background-color: #3B4455;\n",
              "      fill: #D2E3FC;\n",
              "    }\n",
              "\n",
              "    [theme=dark] .colab-df-convert:hover {\n",
              "      background-color: #434B5C;\n",
              "      box-shadow: 0px 1px 3px 1px rgba(0, 0, 0, 0.15);\n",
              "      filter: drop-shadow(0px 1px 2px rgba(0, 0, 0, 0.3));\n",
              "      fill: #FFFFFF;\n",
              "    }\n",
              "  </style>\n",
              "\n",
              "      <script>\n",
              "        const buttonEl =\n",
              "          document.querySelector('#df-74ab5e2a-cb2f-424b-8f2d-0fe1d52d7dd8 button.colab-df-convert');\n",
              "        buttonEl.style.display =\n",
              "          google.colab.kernel.accessAllowed ? 'block' : 'none';\n",
              "\n",
              "        async function convertToInteractive(key) {\n",
              "          const element = document.querySelector('#df-74ab5e2a-cb2f-424b-8f2d-0fe1d52d7dd8');\n",
              "          const dataTable =\n",
              "            await google.colab.kernel.invokeFunction('convertToInteractive',\n",
              "                                                     [key], {});\n",
              "          if (!dataTable) return;\n",
              "\n",
              "          const docLinkHtml = 'Like what you see? Visit the ' +\n",
              "            '<a target=\"_blank\" href=https://colab.research.google.com/notebooks/data_table.ipynb>data table notebook</a>'\n",
              "            + ' to learn more about interactive tables.';\n",
              "          element.innerHTML = '';\n",
              "          dataTable['output_type'] = 'display_data';\n",
              "          await google.colab.output.renderOutput(dataTable, element);\n",
              "          const docLink = document.createElement('div');\n",
              "          docLink.innerHTML = docLinkHtml;\n",
              "          element.appendChild(docLink);\n",
              "        }\n",
              "      </script>\n",
              "    </div>\n",
              "  </div>\n",
              "  "
            ]
          },
          "metadata": {},
          "execution_count": 16
        }
      ]
    },
    {
      "cell_type": "markdown",
      "metadata": {
        "id": "CzIb7nTtXC5O"
      },
      "source": [
        "**Question 1.2:** Let's plot a scatterplot to examine the data."
      ]
    },
    {
      "cell_type": "code",
      "metadata": {
        "colab": {
          "base_uri": "https://localhost:8080/",
          "height": 317
        },
        "id": "TUnRWN_1XDAg",
        "outputId": "410a4bc0-6fed-4321-981c-e40b0344e4b8"
      },
      "source": [
        "sns.scatterplot(x='Years', y='Salary', data=data_ys)"
      ],
      "execution_count": null,
      "outputs": [
        {
          "output_type": "execute_result",
          "data": {
            "text/plain": [
              "<matplotlib.axes._subplots.AxesSubplot at 0x7fb696489b10>"
            ]
          },
          "metadata": {},
          "execution_count": 17
        },
        {
          "output_type": "display_data",
          "data": {
            "text/plain": [
              "<Figure size 432x288 with 1 Axes>"
            ],
            "image/png": "[encoded data removed]"
          },
          "metadata": {
            "needs_background": "light"
          }
        }
      ]
    },
    {
      "cell_type": "markdown",
      "metadata": {
        "id": "EVV48-xv8vAj"
      },
      "source": [
        "**Question 2:** Plot the years-salary data using a lmplot. Use in **x-axis** the **Years** and as **y-axis** the **Salary**. "
      ]
    },
    {
      "cell_type": "code",
      "metadata": {
        "colab": {
          "base_uri": "https://localhost:8080/",
          "height": 767
        },
        "id": "3Ha0BRu78vKz",
        "outputId": "768e716d-21a2-4f23-bc28-fe9f5f9a1289"
      },
      "source": [
        "\n",
        "sns.lmplot(x='Years', y='Salary', data=data_ys, height=10)"
      ],
      "execution_count": null,
      "outputs": [
        {
          "output_type": "execute_result",
          "data": {
            "text/plain": [
              "<seaborn.axisgrid.FacetGrid at 0x7fb69642e210>"
            ]
          },
          "metadata": {},
          "execution_count": 18
        },
        {
          "output_type": "display_data",
          "data": {
            "text/plain": [
              "<Figure size 720x720 with 1 Axes>"
            ],
            "image/png": "[encoded data removed]"
          },
          "metadata": {
            "needs_background": "light"
          }
        }
      ]
    },
    {
      "cell_type": "markdown",
      "metadata": {
        "id": "4yrNRH589MkM"
      },
      "source": [
        "**Question 3:** Create the **X (Years)** and **y (Salary)** variables of your dataset."
      ]
    },
    {
      "cell_type": "code",
      "metadata": {
        "id": "s9O06GoF9L31"
      },
      "source": [
        "\n",
        "X= data_ys[['Years']]\n",
        "y= data_ys[['Salary']]"
      ],
      "execution_count": null,
      "outputs": []
    },
    {
      "cell_type": "markdown",
      "metadata": {
        "id": "-TDOao779auh"
      },
      "source": [
        "**Question 4:** Create the Linear Regression model. Fit **X** and **y**.\n"
      ]
    },
    {
      "cell_type": "code",
      "metadata": {
        "colab": {
          "base_uri": "https://localhost:8080/"
        },
        "id": "YfA_gE7aDLyY",
        "outputId": "3fc00edf-4442-4169-870c-97f0faaedbaa"
      },
      "source": [
        "\n",
        "from sklearn.linear_model import LinearRegression \n",
        "lin = LinearRegression() \n",
        "  \n",
        "lin.fit(X, y) "
      ],
      "execution_count": null,
      "outputs": [
        {
          "output_type": "execute_result",
          "data": {
            "text/plain": [
              "LinearRegression()"
            ]
          },
          "metadata": {},
          "execution_count": 20
        }
      ]
    },
    {
      "cell_type": "markdown",
      "metadata": {
        "id": "WDN-AmuzGNdC"
      },
      "source": [
        "**Question 5:** Create the Polynomial Regression model (degree=8). Fit X and y.\n",
        "\n",
        "Study and run the following code."
      ]
    },
    {
      "cell_type": "code",
      "metadata": {
        "colab": {
          "base_uri": "https://localhost:8080/"
        },
        "id": "EcWDJCppC78_",
        "outputId": "18f0b5f0-3034-405a-85e8-4a4ab2887eed"
      },
      "source": [
        "# Fitting Polynomial Regression to the dataset \n",
        "from sklearn.preprocessing import PolynomialFeatures \n",
        "  \n",
        "poly = PolynomialFeatures(degree = 8) \n",
        "X_poly = poly.fit_transform(X) \n",
        "  \n",
        "poly.fit(X_poly, y) \n",
        "lin2 = LinearRegression() \n",
        "lin2.fit(X_poly, y) "
      ],
      "execution_count": null,
      "outputs": [
        {
          "output_type": "execute_result",
          "data": {
            "text/plain": [
              "LinearRegression()"
            ]
          },
          "metadata": {},
          "execution_count": 21
        }
      ]
    },
    {
      "cell_type": "markdown",
      "metadata": {
        "id": "l6WR4owtDB3k"
      },
      "source": [
        "**Question 6:** Plot the Linear Regression model.\n",
        "\n",
        " Study and run the following code. Is the Regression line a good fit?"
      ]
    },
    {
      "cell_type": "code",
      "metadata": {
        "colab": {
          "base_uri": "https://localhost:8080/",
          "height": 316
        },
        "id": "QsHlyIxaDB_1",
        "outputId": "4aac47b4-a8cb-48d3-ae1e-144b36c3d267"
      },
      "source": [
        "# Visualising the Linear Regression results \n",
        "plt.scatter(X, y, color = 'blue') \n",
        "  \n",
        "plt.plot(X, lin.predict(X), color = 'red') \n",
        "plt.title('Linear Regression') \n",
        "plt.xlabel('Temperature') \n",
        "plt.ylabel('Pressure') \n",
        "  \n",
        "plt.show() \n",
        "\n",
        "# The regression line does not represent the data"
      ],
      "execution_count": null,
      "outputs": [
        {
          "output_type": "display_data",
          "data": {
            "text/plain": [
              "<Figure size 432x288 with 1 Axes>"
            ],
            "image/png": "[encoded data removed]"
          },
          "metadata": {
            "needs_background": "light"
          }
        }
      ]
    },
    {
      "cell_type": "markdown",
      "metadata": {
        "id": "llOF3V1ZHKJZ"
      },
      "source": [
        "**Question 7:** Plot the Polynomial Regression results. \n",
        "\n",
        "Study and run the following code. Is the Polynomial line a good fit?"
      ]
    },
    {
      "cell_type": "code",
      "metadata": {
        "colab": {
          "base_uri": "https://localhost:8080/",
          "height": 319
        },
        "id": "B_3Nd936DPAf",
        "outputId": "90d375eb-7f50-416d-8d76-9784d8ec86cc"
      },
      "source": [
        "# Visualising the Polynomial Regression results \n",
        "plt.scatter(X, y, color = 'blue') \n",
        "  \n",
        "plt.plot(X, lin2.predict(poly.fit_transform(X)), color = 'red') \n",
        "plt.title('Polynomial Regression') \n",
        "\n",
        "# The Polynomial line represent better the data!"
      ],
      "execution_count": null,
      "outputs": [
        {
          "output_type": "execute_result",
          "data": {
            "text/plain": [
              "Text(0.5, 1.0, 'Polynomial Regression')"
            ]
          },
          "metadata": {},
          "execution_count": 23
        },
        {
          "output_type": "display_data",
          "data": {
            "text/plain": [
              "<Figure size 432x288 with 1 Axes>"
            ],
            "image/png": "[encoded data removed]"
          },
          "metadata": {
            "needs_background": "light"
          }
        }
      ]
    },
    {
      "cell_type": "markdown",
      "metadata": {
        "id": "ZzxepgS5Henk"
      },
      "source": [
        "**Question 8:** Let us change the degree of the Polynomial line.\n",
        "\n",
        "Study and run the following code using the following.\n",
        "\n",
        "*   degree=4\n",
        "*   degree=10"
      ]
    },
    {
      "cell_type": "code",
      "metadata": {
        "id": "HZDK2cjkH1qt",
        "colab": {
          "base_uri": "https://localhost:8080/",
          "height": 319
        },
        "outputId": "25c867de-dd1f-4b88-b214-401757f305b0"
      },
      "source": [
        "# Fitting Polynomial Regression to the dataset \n",
        "from sklearn.preprocessing import PolynomialFeatures \n",
        "  \n",
        "poly = PolynomialFeatures(degree = 10) \n",
        "X_poly = poly.fit_transform(X) \n",
        "  \n",
        "poly.fit(X_poly, y) \n",
        "lin2 = LinearRegression() \n",
        "lin2.fit(X_poly, y) \n",
        "\n",
        "# Visualising the Polynomial Regression results \n",
        "plt.scatter(X, y, color = 'blue') \n",
        "  \n",
        "plt.plot(X, lin2.predict(poly.fit_transform(X)), color = 'red') \n",
        "plt.title('Polynomial Regression') "
      ],
      "execution_count": null,
      "outputs": [
        {
          "output_type": "execute_result",
          "data": {
            "text/plain": [
              "Text(0.5, 1.0, 'Polynomial Regression')"
            ]
          },
          "metadata": {},
          "execution_count": 24
        },
        {
          "output_type": "display_data",
          "data": {
            "text/plain": [
              "<Figure size 432x288 with 1 Axes>"
            ],
            "image/png": "[encoded data removed]"
          },
          "metadata": {
            "needs_background": "light"
          }
        }
      ]
    },
    {
      "cell_type": "markdown",
      "metadata": {
        "id": "QIqtIJ84IJlO"
      },
      "source": [
        "\n",
        "> The degree affects the fit of our Polynomial line, if the degree is very small our model does not fit well to the data, if the degree is very high the model overfits the data. We need to find a balance to control it."
      ]
    },
    {
      "cell_type": "markdown",
      "metadata": {
        "id": "9_vviwtqIqqA"
      },
      "source": [
        "**Question 9:** Create a Polynomial Regression model using degree 11. Use the code from the previous examples."
      ]
    },
    {
      "cell_type": "code",
      "metadata": {
        "colab": {
          "base_uri": "https://localhost:8080/"
        },
        "id": "7sPWtOI7JytF",
        "outputId": "646c1bf8-f1b8-4c4c-f1a0-4611924d3188"
      },
      "source": [
        "\n",
        "from sklearn.preprocessing import PolynomialFeatures\n",
        "poly_reg = PolynomialFeatures(degree=11)\n",
        "X_poly = poly_reg.fit_transform(X)\n",
        "pol_reg = LinearRegression()\n",
        "pol_reg.fit(X_poly, y)"
      ],
      "execution_count": null,
      "outputs": [
        {
          "output_type": "execute_result",
          "data": {
            "text/plain": [
              "LinearRegression()"
            ]
          },
          "metadata": {},
          "execution_count": 25
        }
      ]
    },
    {
      "cell_type": "markdown",
      "metadata": {
        "id": "8NVVy-wpLFT-"
      },
      "source": [
        "**Question 10:** Predict the salary for years of experience as follows.\n",
        "*   32.5\n",
        "*   20.5\n",
        "\n",
        "Create a linear and Polynomial Regression prediction. \n",
        "\n",
        "Study and run the following code.\n",
        "\n",
        "Which model is more accurate?\n"
      ]
    },
    {
      "cell_type": "code",
      "metadata": {
        "colab": {
          "base_uri": "https://localhost:8080/"
        },
        "id": "rEd8Nc8XIrAs",
        "outputId": "7fb92a10-137e-4384-cad9-2332fb3bfc4b"
      },
      "source": [
        "# Predicting a new result with Linear Regression\n",
        "print(lin.predict([[20.5]]))\n",
        "\n",
        "# Predicting a new result with Polymonial Regression\n",
        "print(pol_reg.predict(poly_reg.fit_transform([[20.5]])))\n",
        "\n",
        "# Answer: __Polynomial Regression is a better fit model in this dataset___"
      ],
      "execution_count": null,
      "outputs": [
        {
          "output_type": "stream",
          "name": "stdout",
          "text": [
            "[[4817.94052419]]\n",
            "[[7776.4082032]]\n"
          ]
        },
        {
          "output_type": "stream",
          "name": "stderr",
          "text": [
            "/usr/local/lib/python3.7/dist-packages/sklearn/base.py:451: UserWarning: X does not have valid feature names, but LinearRegression was fitted with feature names\n",
            "  \"X does not have valid feature names, but\"\n"
          ]
        }
      ]
    },
    {
      "cell_type": "markdown",
      "source": [
        "# **PART 3: Gradient descent implementation using Python**"
      ],
      "metadata": {
        "id": "dOFWVa07cTIE"
      }
    },
    {
      "cell_type": "markdown",
      "source": [
        "Study the following code that implements the Gradient Descent method."
      ],
      "metadata": {
        "id": "itKzWnn1dRi3"
      }
    },
    {
      "cell_type": "code",
      "source": [
        "# Input data and give us a function!\n",
        "\n",
        "import numpy as np\n",
        "import sys\n",
        "\n",
        "\n",
        "def grad_desc(x, y):\n",
        "    # Looking for y = m*x + b => (I know that it should be y = 2x+3)\n",
        "    results = []\n",
        "    converged = False\n",
        "    m, b = 0, 0\n",
        "    count = 0\n",
        "    n = len(x)\n",
        "    # The learning rate is too high, it should be a small number 0.01\n",
        "\n",
        "    learning_rate = 0.01\n",
        "\n",
        "    e = sys.maxsize\n",
        "    \n",
        "    iter = 1000000\n",
        "    # The limit error is too high, it should be a small number 0.0001\n",
        "    limit_error = 0.0001\n",
        "    while not converged:\n",
        "        count += 1\n",
        "        y_predicted = m * x + b\n",
        "        mse = (1 / float(n)) * sum([val ** 2 for val in (y - y_predicted)])\n",
        "        md = -(2 / float(n)) * sum(x * (y - y_predicted))\n",
        "        bd = -(2 / float(n)) * sum(y - y_predicted)\n",
        "        m = m - learning_rate * md\n",
        "        b = b - learning_rate * bd\n",
        "\n",
        "        if abs(mse - e) <= limit_error:\n",
        "            converged = True\n",
        "        if iter == count:\n",
        "            converged = True\n",
        "        e = mse\n",
        "        print(\"f(x) =  {}* x + {}, with mse {}, iteration {}\".format(m, b, mse, count))\n",
        "\n",
        "    results.append([count, m, b, mse])\n",
        "    print(\"f(x) =  {}* x + {}, with mse {} after iteration {}\".format(round(m), round(b, 0), round(mse, 5), count))\n",
        "\n",
        "x = np.array([1,2,3,4,5])\n",
        "# The input values are problematic, probably its 23 and not 230!\n",
        "y = np.array([7,11,15,19,23])\n",
        "\n",
        "# f(x) = y = m*x +b, if m=4, and b = 3\n",
        "# when x = 1, y = 7\n",
        "# when x = 2, y = 11\n",
        "# when x = 3, y = 15\n",
        "# when x = 4, y = 19\n",
        "# ...\n",
        "# Our task is to generate the f(x) (y) given x=[1,2,3,4] and y=[7,11,15,19]\n",
        "# I know that I am supposed to fing 4x+3, but I want my program to generate the relationship!\n",
        " \n",
        "\n",
        "#x = np.array([3])\n",
        "#y = np.array([9])\n",
        "grad_desc(x, y)"
      ],
      "metadata": {
        "colab": {
          "base_uri": "https://localhost:8080/"
        },
        "id": "R5DGN9DycWco",
        "outputId": "5ccc4b25-1d33-461d-e693-beb2074495c9"
      },
      "execution_count": null,
      "outputs": [
        {
          "output_type": "stream",
          "name": "stdout",
          "text": [
            "f(x) =  1.06* x + 0.3, with mse 257.0, iteration 1\n",
            "f(x) =  1.8688* x + 0.5304, with mse 149.9976, iteration 2\n",
            "f(x) =  2.48584* x + 0.707664, with mse 87.64034112, iteration 3\n",
            "f(x) =  2.95649536* x + 0.8443603199999999, with mse 51.300070765056006, iteration 4\n",
            "f(x) =  3.3154047616* x + 0.9500833919999999, with mse 30.121223750196027, iteration 5\n",
            "f(x) =  3.589010710528* x + 1.032157438464, with mse 17.777714038316986, iteration 6\n",
            "f(x) =  3.797498907904* x + 1.0961736470630399, with mse 10.583011800610903, iteration 7\n",
            "f(x) =  3.9562787293413377* x + 1.146400239647539, with mse 6.388789891223322, iteration 8\n",
            "f(x) =  4.077113394507391* x + 1.186095511094108, with mse 3.943109537057998, iteration 9\n",
            "f(x) =  4.168982717050119* x + 1.2177467972017824, with mse 2.5164027318995568, iteration 10\n",
            "f(x) =  4.238741711466986* x + 1.2432528982347395, with mse 1.6835132920818356, iteration 11\n",
            "f(x) =  4.291623361050164* x + 1.2640633375820256, with mse 1.1966811741560497, iteration 12\n",
            "f(x) =  4.331622421364207* x + 1.2812846691673752, with mse 0.9115240233517901, iteration 13\n",
            "f(x) =  4.361788408514038* x + 1.2957616305021753, with mse 0.7439028844261601, iteration 14\n",
            "f(x) =  4.384449260810819* x + 1.3081390933812895, with mse 0.6447856733798655, iteration 15\n",
            "f(x) =  4.401382077829561* x + 1.3189093558650147, with mse 0.5855988531968089, iteration 16\n",
            "f(x) =  4.413943459355157* x + 1.3284482440779408, with mse 0.5496911156522991, iteration 17\n",
            "f(x) =  4.4231690036523466* x + 1.3370426716350725, with mse 0.527358837672793, iteration 18\n",
            "f(x) =  4.429849262550726* x + 1.3449116779832302, with mse 0.512947163572607, iteration 19\n",
            "f(x) =  4.434587724110573* x + 1.352222488670522, with mse 0.503160659294357, iteration 20\n",
            "f(x) =  4.437845075486016* x + 1.3591027754504772, with mse 0.4960788453312793, iteration 21\n",
            "f(x) =  4.439972992352064* x + 1.3656500154123068, with mse 0.49058249804915327, iteration 22\n",
            "f(x) =  4.4412399331098715* x + 1.3719386355629368, with mse 0.4860193264957342, iteration 23\n",
            "f(x) =  4.441850829691924* x + 1.3780254668650858, with mse 0.48200914539365886, iteration 24\n",
            "f(x) =  4.441962119147795* x + 1.3839539077462686, with mse 0.47833033960308313, iteration 25\n",
            "f(x) =  4.441693218470504* x + 1.3897571024424755, with mse 0.4748537012284299, iteration 26\n",
            "f(x) =  4.441135284260445* x + 1.3954603672853958, with mse 0.471503873156891, iteration 27\n",
            "f(x) =  4.440357899686023* x + 1.4010830428840613, with mse 0.4682368802586543, iteration 28\n",
            "f(x) =  4.439414179182054* x + 1.4066399080452188, with mse 0.4650270356799833, iteration 29\n",
            "f(x) =  4.438344665279289* x + 1.4121422591333912, with mse 0.46185931047625595, iteration 30\n",
            "f(x) =  4.437180303369842* x + 1.417598734033966, with mse 0.45872488700913083, iteration 31\n",
            "f(x) =  4.435944712586439* x + 1.423015941151096, with mse 0.45561856768380865, iteration 32\n",
            "f(x) =  4.434655919348357* x + 1.4283989395728878, with mse 0.4525372648866771, iteration 33\n",
            "f(x) =  4.433327680717345* x + 1.4337516056205286, with mse 0.4494791209930479, iteration 34\n",
            "f(x) =  4.4319704946222975* x + 1.4390769126650773, with mse 0.4464429955485469, iteration 35\n",
            "f(x) =  4.4305923710454875* x + 1.444377144734438, with mse 0.44342816642116106, iteration 36\n",
            "f(x) =  4.429199420731414* x + 1.44965405957702, with mse 0.44043415564480565, iteration 37\n",
            "f(x) =  4.427796304595882* x + 1.4549090131415947, with mse 0.4374606279269558, iteration 38\n",
            "f(x) =  4.426386576796292* x + 1.4601430546030099, with mse 0.4345073315013176, iteration 39\n",
            "f(x) =  4.424972946624927* x + 1.465356998903172, with mse 0.43157406365710715, iteration 40\n",
            "f(x) =  4.423557478433253* x + 1.4705514821276129, with mse 0.42866065064864145, iteration 41\n",
            "f(x) =  4.422141744250281* x + 1.4757270037790655, with mse 0.4257669359851063, iteration 42\n",
            "f(x) =  4.420726940288475* x + 1.4808839590484673, with mse 0.4228927736038688, iteration 43\n",
            "f(x) =  4.419313975882102* x + 1.4860226634501894, with mse 0.42003802388969985, iteration 44\n",
            "f(x) =  4.417903541381028* x + 1.4911433716282596, with mse 0.4172025513524966, iteration 45\n",
            "f(x) =  4.4164961599795065* x + 1.4962462917128327, with mse 0.4143862232714585, iteration 46\n",
            "f(x) =  4.415092227281245* x + 1.5013315962798057, with mse 0.411588908902539, iteration 47\n",
            "f(x) =  4.413692041502583* x + 1.506399430717335, with mse 0.40881047901412626, iteration 48\n",
            "f(x) =  4.4122958265289745* x + 1.5114499196128333, with mse 0.4060508056140286, iteration 49\n",
            "f(x) =  4.41090374951583* x + 1.516483171628838, with mse 0.4033097617879632, iteration 50\n",
            "f(x) =  4.4095159343246175* x + 1.5214992832253116, with mse 0.40058722160302446, iteration 51\n",
            "f(x) =  4.408132471779683* x + 1.5264983415013282, with mse 0.3978830600490563, iteration 52\n",
            "f(x) =  4.4067534274980735* x + 1.5314804263645208, with mse 0.3951971530021159, iteration 53\n",
            "f(x) =  4.4053788478666265* x + 1.536445612187346, with mse 0.39252937720082165, iteration 54\n",
            "f(x) =  4.404008764604728* x + 1.5413939690716014, with mse 0.38987961023024353, iteration 55\n",
            "f(x) =  4.402643198247392* x + 1.5463255638138858, with mse 0.3872477305101929, iteration 56\n",
            "f(x) =  4.401282160804133* x + 1.5512404606427646, with mse 0.3846336172860842, iteration 57\n",
            "f(x) =  4.399925657788658* x + 1.5561387217816613, with mse 0.38203715062133214, iteration 58\n",
            "f(x) =  4.398573689768254* x + 1.5610204078787087, with mse 0.37945821139064323, iteration 59\n",
            "f(x) =  4.397226253546515* x + 1.5658855783350392, with mse 0.376896681273841, iteration 60\n",
            "f(x) =  4.3958833430661794* x + 1.5707342915555476, with mse 0.3743524427500303, iteration 61\n",
            "f(x) =  4.394544950098287* x + 1.5755666051404658, with mse 0.371825379091973, iteration 62\n",
            "f(x) =  4.393211064768236* x + 1.5803825760317591, with mse 0.36931537436058415, iteration 63\n",
            "f(x) =  4.391881675957318* x + 1.5851822606250299, with mse 0.3668223133995394, iteration 64\n",
            "f(x) =  4.390556771609207* x + 1.58996571485509, with mse 0.36434608182993733, iteration 65\n",
            "f(x) =  4.389236338963876* x + 1.5947329942614359, with mse 0.3618865660450336, iteration 66\n",
            "f(x) =  4.387920364736138* x + 1.5994841540383746, with mse 0.35944365320500316, iteration 67\n",
            "f(x) =  4.386608835251884* x + 1.6042192490734388, with mse 0.3570172312317618, iteration 68\n",
            "f(x) =  4.385301736552064* x + 1.608938333976857, with mse 0.3546071888038104, iteration 69\n",
            "f(x) =  4.383999054471999* x + 1.613641463104196, with mse 0.35221341535113493, iteration 70\n",
            "f(x) =  4.382700774701907* x + 1.6183286905737921, with mse 0.3498358010501197, iteration 71\n",
            "f(x) =  4.38140688283306* x + 1.6230000702802019, with mse 0.3474742368185217, iteration 72\n",
            "f(x) =  4.380117364392975* x + 1.6276556559046143, with mse 0.34512861431045094, iteration 73\n",
            "f(x) =  4.378832204872244* x + 1.6322955009229434, with mse 0.3427988259114092, iteration 74\n",
            "f(x) =  4.377551389744974* x + 1.63691965861215, with mse 0.3404847647333504, iteration 75\n",
            "f(x) =  4.37627490448435* x + 1.6415281820552086, with mse 0.3381863246097732, iteration 76\n",
            "f(x) =  4.375002734574481* x + 1.6461211241450433, with mse 0.33590340009085407, iteration 77\n",
            "f(x) =  4.373734865519392* x + 1.6506985375876735, with mse 0.33363588643860775, iteration 78\n",
            "f(x) =  4.372471282849865* x + 1.6552604749047566, with mse 0.33138367962208193, iteration 79\n",
            "f(x) =  4.371211972128609* x + 1.6598069884356694, with mse 0.3291466763125851, iteration 80\n",
            "f(x) =  4.369956918954175* x + 1.6643381303392395, with mse 0.32692477387894414, iteration 81\n",
            "f(x) =  4.368706108963902* x + 1.6688539525952042, with mse 0.32471787038279715, iteration 82\n",
            "f(x) =  4.3674595278361314* x + 1.673354507005466, with mse 0.32252586457391846, iteration 83\n",
            "f(x) =  4.366217161291854* x + 1.6778398451951888, with mse 0.32034865588557, iteration 84\n",
            "f(x) =  4.364978995095935* x + 1.6823100186137738, with mse 0.31818614442988624, iteration 85\n",
            "f(x) =  4.3637450150580035* x + 1.6867650785357422, with mse 0.3160382309933004, iteration 86\n",
            "f(x) =  4.362515207033098* x + 1.6912050760615471, with mse 0.31390481703197987, iteration 87\n",
            "f(x) =  4.361289556922124* x + 1.6956300621183302, with mse 0.31178580466731365, iteration 88\n",
            "f(x) =  4.360068050672156* x + 1.7000400874606363, with mse 0.3096810966814212, iteration 89\n",
            "f(x) =  4.358850674276644* x + 1.7044352026710943, with mse 0.3075905965126886, iteration 90\n",
            "f(x) =  4.3576374137755165* x + 1.7088154581610737, with mse 0.3055142082513423, iteration 91\n",
            "f(x) =  4.3564282552552385* x + 1.7131809041713213, with mse 0.3034518366350456, iteration 92\n",
            "f(x) =  4.355223184848807* x + 1.7175315907725806, with mse 0.30140338704452924, iteration 93\n",
            "f(x) =  4.354022188735715* x + 1.7218675678662005, with mse 0.29936876549925223, iteration 94\n",
            "f(x) =  4.352825253141885* x + 1.7261888851847336, with mse 0.2973478786530881, iteration 95\n",
            "f(x) =  4.3516323643395864* x + 1.7304955922925258, with mse 0.2953406337900413, iteration 96\n",
            "f(x) =  4.350443508647325* x + 1.7347877385863002, with mse 0.29334693881999696, iteration 97\n",
            "f(x) =  4.349258672429736* x + 1.7390653732957346, with mse 0.2913667022744916, iteration 98\n",
            "f(x) =  4.3480778420974495* x + 1.7433285454840357, with mse 0.2893998333025238, iteration 99\n",
            "f(x) =  4.346901004106968* x + 1.747577304048508, with mse 0.28744624166637606, iteration 100\n",
            "f(x) =  4.345728144960525* x + 1.7518116977211198, with mse 0.28550583773748156, iteration 101\n",
            "f(x) =  4.344559251205942* x + 1.756031775069066, with mse 0.2835785324923111, iteration 102\n",
            "f(x) =  4.343394309436491* x + 1.7602375844953282, with mse 0.28166423750828823, iteration 103\n",
            "f(x) =  4.342233306290743* x + 1.7644291742392322, with mse 0.27976286495973135, iteration 104\n",
            "f(x) =  4.341076228452426* x + 1.768606592377003, with mse 0.2778743276138281, iteration 105\n",
            "f(x) =  4.339923062650272* x + 1.7727698868223172, with mse 0.27599853882662745, iteration 106\n",
            "f(x) =  4.338773795657874* x + 1.7769191053268545, with mse 0.274135412539069, iteration 107\n",
            "f(x) =  4.33762841429353* x + 1.781054295480845, with mse 0.27228486327303497, iteration 108\n",
            "f(x) =  4.336486905420102* x + 1.7851755047136164, with mse 0.2704468061274259, iteration 109\n",
            "f(x) =  4.3353492559448625* x + 1.789282780294138, with mse 0.26862115677426496, iteration 110\n",
            "f(x) =  4.334215452819344* x + 1.7933761693315635, with mse 0.2668078314548334, iteration 111\n",
            "f(x) =  4.333085483039195* x + 1.7974557187757716, with mse 0.2650067469758241, iteration 112\n",
            "f(x) =  4.331959333644026* x + 1.8015214754179045, with mse 0.2632178207055265, iteration 113\n",
            "f(x) =  4.330836991717265* x + 1.805573485890905, with mse 0.2614409705700324, iteration 114\n",
            "f(x) =  4.329718444386013* x + 1.809611796670051, with mse 0.2596761150494761, iteration 115\n",
            "f(x) =  4.328603678820887* x + 1.813636454073489, with mse 0.25792317317428964, iteration 116\n",
            "f(x) =  4.327492682235882* x + 1.817647504262766, with mse 0.256182064521489, iteration 117\n",
            "f(x) =  4.326385441888222* x + 1.8216449932433578, with mse 0.254452709210986, iteration 118\n",
            "f(x) =  4.325281945078212* x + 1.8256289668651973, with mse 0.25273502790192226, iteration 119\n",
            "f(x) =  4.324182179149093* x + 1.8295994708232006, with mse 0.25102894178902924, iteration 120\n",
            "f(x) =  4.3230861314869005* x + 1.833556550657791, with mse 0.2493343725990146, iteration 121\n",
            "f(x) =  4.321993789520315* x + 1.8375002517554213, with mse 0.2476512425869642, iteration 122\n",
            "f(x) =  4.32090514072052* x + 1.841430619349094, with mse 0.24597947453278646, iteration 123\n",
            "f(x) =  4.3198201726010605* x + 1.8453476985188808, with mse 0.24431899173765986, iteration 124\n",
            "f(x) =  4.318738872717694* x + 1.8492515341924396, with mse 0.24266971802052, iteration 125\n",
            "f(x) =  4.317661228668255* x + 1.8531421711455291, with mse 0.2410315777145582, iteration 126\n",
            "f(x) =  4.316587228092508* x + 1.8570196540025232, with mse 0.23940449566375888, iteration 127\n",
            "f(x) =  4.315516858672004* x + 1.8608840272369223, with mse 0.23778839721944545, iteration 128\n",
            "f(x) =  4.3144501081299484* x + 1.8647353351718636, with mse 0.23618320823685332, iteration 129\n",
            "f(x) =  4.313386964231048* x + 1.8685736219806295, with mse 0.2345888550717371, iteration 130\n",
            "f(x) =  4.31232741478138* x + 1.8723989316871539, with mse 0.23300526457698167, iteration 131\n",
            "f(x) =  4.311271447628247* x + 1.876211308166528, with mse 0.23143236409925275, iteration 132\n",
            "f(x) =  4.310219050660041* x + 1.8800107951455025, with mse 0.22987008147566312, iteration 133\n",
            "f(x) =  4.3091702118061015* x + 1.8837974362029901, with mse 0.22831834503045925, iteration 134\n",
            "f(x) =  4.30812491903658* x + 1.8875712747705642, with mse 0.22677708357173398, iteration 135\n",
            "f(x) =  4.307083160362298* x + 1.891332354132958, with mse 0.22524622638816152, iteration 136\n",
            "f(x) =  4.306044923834615* x + 1.895080717428561, with mse 0.22372570324575253, iteration 137\n",
            "f(x) =  4.305010197545286* x + 1.898816407649913, with mse 0.22221544438463114, iteration 138\n",
            "f(x) =  4.303978969626328* x + 1.9025394676441976, with mse 0.2207153805158345, iteration 139\n",
            "f(x) =  4.302951228249884* x + 1.9062499401137338, with mse 0.21922544281813586, iteration 140\n",
            "f(x) =  4.3019269616280855* x + 1.909947867616466, with mse 0.21774556293488667, iteration 141\n",
            "f(x) =  4.300906158012919* x + 1.9136332925664516, with mse 0.21627567297087436, iteration 142\n",
            "f(x) =  4.2998888056960896* x + 1.9173062572343476, with mse 0.214815705489219, iteration 143\n",
            "f(x) =  4.298874893008889* x + 1.9209668037478953, with mse 0.21336559350826884, iteration 144\n",
            "f(x) =  4.297864408322059* x + 1.9246149740924041, with mse 0.21192527049853258, iteration 145\n",
            "f(x) =  4.296857340045662* x + 1.9282508101112326, with mse 0.2104946703796251, iteration 146\n",
            "f(x) =  4.295853676628942* x + 1.9318743535062681, with mse 0.20907372751723738, iteration 147\n",
            "f(x) =  4.294853406560199* x + 1.9354856458384062, with mse 0.20766237672012397, iteration 148\n",
            "f(x) =  4.293856518366651* x + 1.9390847285280262, with mse 0.20626055323711237, iteration 149\n",
            "f(x) =  4.292863000614306* x + 1.9426716428554667, with mse 0.20486819275413326, iteration 150\n",
            "f(x) =  4.29187284190783* x + 1.946246429961499, with mse 0.20348523139126642, iteration 151\n",
            "f(x) =  4.290886030890418* x + 1.9498091308477992, with mse 0.20211160569981712, iteration 152\n",
            "f(x) =  4.289902556243658* x + 1.9533597863774181, with mse 0.20074725265939686, iteration 153\n",
            "f(x) =  4.288922406687408* x + 1.9568984372752503, with mse 0.19939210967503548, iteration 154\n",
            "f(x) =  4.287945570979663* x + 1.960425124128501, with mse 0.19804611457431315, iteration 155\n",
            "f(x) =  4.286972037916427* x + 1.963939887387151, with mse 0.19670920560450192, iteration 156\n",
            "f(x) =  4.2860017963315835* x + 1.9674427673644224, with mse 0.19538132142973647, iteration 157\n",
            "f(x) =  4.28503483509677* x + 1.9709338042372389, with mse 0.19406240112819645, iteration 158\n",
            "f(x) =  4.284071143121246* x + 1.974413038046688, with mse 0.19275238418931817, iteration 159\n",
            "f(x) =  4.283110709351771* x + 1.9778805086984794, with mse 0.19145121051101086, iteration 160\n",
            "f(x) =  4.2821535227724725* x + 1.9813362559634036, with mse 0.1901588203969027, iteration 161\n",
            "f(x) =  4.2811995724047245* x + 1.984780319477787, with mse 0.1888751545536023, iteration 162\n",
            "f(x) =  4.280248847307018* x + 1.9882127387439479, with mse 0.18760015408797936, iteration 163\n",
            "f(x) =  4.279301336574837* x + 1.991633553130648, with mse 0.18633376050445785, iteration 164\n",
            "f(x) =  4.278357029340534* x + 1.9950428018735449, with mse 0.1850759157023394, iteration 165\n",
            "f(x) =  4.277415914773204* x + 1.998440524075642, with mse 0.18382656197313185, iteration 166\n",
            "f(x) =  4.276477982078561* x + 2.001826758707737, with mse 0.18258564199790495, iteration 167\n",
            "f(x) =  4.275543220498813* x + 2.0052015446088687, with mse 0.18135309884465778, iteration 168\n",
            "f(x) =  4.274611619312542* x + 2.0085649204867626, with mse 0.18012887596571026, iteration 169\n",
            "f(x) =  4.273683167834577* x + 2.0119169249182747, with mse 0.1789129171951067, iteration 170\n",
            "f(x) =  4.272757855415874* x + 2.0152575963498345, with mse 0.17770516674603942, iteration 171\n",
            "f(x) =  4.271835671443391* x + 2.0185869730978854, with mse 0.1765055692082883, iteration 172\n",
            "f(x) =  4.270916605339972* x + 2.021905093349324, with mse 0.17531406954567955, iteration 173\n",
            "f(x) =  4.270000646564219* x + 2.025211995161939, with mse 0.17413061309356226, iteration 174\n",
            "f(x) =  4.269087784610374* x + 2.0285077164648473, with mse 0.17295514555629812, iteration 175\n",
            "f(x) =  4.268178009008201* x + 2.0317922950589278, with mse 0.1717876130047694, iteration 176\n",
            "f(x) =  4.267271309322862* x + 2.0350657686172573, with mse 0.17062796187390986, iteration 177\n",
            "f(x) =  4.266367675154797* x + 2.0383281746855406, with mse 0.16947613896024044, iteration 178\n",
            "f(x) =  4.265467096139609* x + 2.041579550682542, with mse 0.16833209141943414, iteration 179\n",
            "f(x) =  4.264569561947943* x + 2.0448199339005146, with mse 0.1671957667638894, iteration 180\n",
            "f(x) =  4.2636750622853645* x + 2.048049361505628, with mse 0.16606711286032017, iteration 181\n",
            "f(x) =  4.262783586892247* x + 2.0512678705383935, with mse 0.1649460779273662, iteration 182\n",
            "f(x) =  4.261895125543648* x + 2.054475497914091, with mse 0.16383261053321718, iteration 183\n",
            "f(x) =  4.2610096680492004* x + 2.05767228042319, with mse 0.1627266595932545, iteration 184\n",
            "f(x) =  4.260127204252985* x + 2.0608582547317744, with mse 0.16162817436770385, iteration 185\n",
            "f(x) =  4.259247724033422* x + 2.0640334573819596, with mse 0.16053710445930905, iteration 186\n",
            "f(x) =  4.258371217303152* x + 2.0671979247923153, with mse 0.15945339981102344, iteration 187\n",
            "f(x) =  4.25749767400892* x + 2.0703516932582797, with mse 0.1583770107037058, iteration 188\n",
            "f(x) =  4.256627084131461* x + 2.073494798952579, with mse 0.15730788775384866, iteration 189\n",
            "f(x) =  4.255759437685385* x + 2.0766272779256396, with mse 0.15624598191130148, iteration 190\n",
            "f(x) =  4.254894724719062* x + 2.0797491661060037, with mse 0.15519124445703109, iteration 191\n",
            "f(x) =  4.254032935314508* x + 2.08286049930074, with mse 0.15414362700088177, iteration 192\n",
            "f(x) =  4.253174059587272* x + 2.0859613131958548, with mse 0.15310308147935142, iteration 193\n",
            "f(x) =  4.25231808768632* x + 2.0890516433567012, with mse 0.152069560153395, iteration 194\n",
            "f(x) =  4.251465009793928* x + 2.092131525228388, with mse 0.1510430156062248, iteration 195\n",
            "f(x) =  4.250614816125561* x + 2.0952009941361847, with mse 0.15002340074114554, iteration 196\n",
            "f(x) =  4.249767496929766* x + 2.0982600852859274, with mse 0.14901066877938204, iteration 197\n",
            "f(x) =  4.2489230424880615* x + 2.101308833764423, with mse 0.14800477325794315, iteration 198\n",
            "f(x) =  4.248081443114822* x + 2.1043472745398506, with mse 0.1470056680274835, iteration 199\n",
            "f(x) =  4.24724268915717* x + 2.1073754424621645, with mse 0.14601330725018866, iteration 200\n",
            "f(x) =  4.246406770994863* x + 2.110393372263491, with mse 0.1450276453976746, iteration 201\n",
            "f(x) =  4.2455736790401835* x + 2.1134010985585294, with mse 0.14404863724889316, iteration 202\n",
            "f(x) =  4.244743403737831* x + 2.116398655844948, with mse 0.14307623788806254, iteration 203\n",
            "f(x) =  4.243915935564812* x + 2.119386078503779, with mse 0.1421104027026028, iteration 204\n",
            "f(x) =  4.243091265030326* x + 2.1223634007998147, with mse 0.14115108738109333, iteration 205\n",
            "f(x) =  4.242269382675666* x + 2.125330656881999, with mse 0.1401982479112356, iteration 206\n",
            "f(x) =  4.241450279074099* x + 2.128287880783819, with mse 0.1392518405778361, iteration 207\n",
            "f(x) =  4.240633944830768* x + 2.1312351064236967, with mse 0.13831182196080172, iteration 208\n",
            "f(x) =  4.239820370582577* x + 2.1341723676053768, with mse 0.13737814893314493, iteration 209\n",
            "f(x) =  4.239009546998087* x + 2.137099698018315, with mse 0.13645077865900643, iteration 210\n",
            "f(x) =  4.238201464777409* x + 2.1400171312380634, with mse 0.1355296685916917, iteration 211\n",
            "f(x) =  4.237396114652095* x + 2.1429247007266574, with mse 0.13461477647171619, iteration 212\n",
            "f(x) =  4.236593487385035* x + 2.1458224398329984, with mse 0.1337060603248683, iteration 213\n",
            "f(x) =  4.235793573770347* x + 2.1487103817932365, with mse 0.13280347846028287, iteration 214\n",
            "f(x) =  4.234996364633276* x + 2.151588559731151, with mse 0.131906989468528, iteration 215\n",
            "f(x) =  4.234201850830086* x + 2.1544570066585313, with mse 0.1310165522197067, iteration 216\n",
            "f(x) =  4.233410023247955* x + 2.1573157554755555, with mse 0.13013212586156903, iteration 217\n",
            "f(x) =  4.232620872804872* x + 2.160164838971167, with mse 0.12925366981763756, iteration 218\n",
            "f(x) =  4.23183439044953* x + 2.1630042898234514, with mse 0.12838114378534643, iteration 219\n",
            "f(x) =  4.231050567161226* x + 2.1658341406000106, with mse 0.1275145077341914, iteration 220\n",
            "f(x) =  4.230269393949755* x + 2.168654423758337, with mse 0.1266537219038953, iteration 221\n",
            "f(x) =  4.229490861855309* x + 2.171465171646185, with mse 0.12579874680257921, iteration 222\n",
            "f(x) =  4.22871496194837* x + 2.1742664165019425, with mse 0.12494954320495832, iteration 223\n",
            "f(x) =  4.227941685329612* x + 2.1770581904550013, with mse 0.12410607215053462, iteration 224\n",
            "f(x) =  4.227171023129798* x + 2.1798405255261244, with mse 0.12326829494181346, iteration 225\n",
            "f(x) =  4.226402966509675* x + 2.182613453627814, with mse 0.12243617314252873, iteration 226\n",
            "f(x) =  4.2256375066598775* x + 2.185377006564677, with mse 0.12160966857587503, iteration 227\n",
            "f(x) =  4.224874634800824* x + 2.188131216033791, with mse 0.12078874332276356, iteration 228\n",
            "f(x) =  4.224114342182616* x + 2.190876113625066, with mse 0.11997335972007264, iteration 229\n",
            "f(x) =  4.223356620084936* x + 2.193611730821608, with mse 0.11916348035893046, iteration 230\n",
            "f(x) =  4.2226014598169535* x + 2.1963380990000796, with mse 0.1183590680829903, iteration 231\n",
            "f(x) =  4.221848852717219* x + 2.1990552494310607, with mse 0.11756008598673069, iteration 232\n",
            "f(x) =  4.221098790153567* x + 2.2017632132794063, with mse 0.1167664974137605, iteration 233\n",
            "f(x) =  4.220351263523018* x + 2.2044620216046042, with mse 0.11597826595513548, iteration 234\n",
            "f(x) =  4.219606264251677* x + 2.207151705361131, with mse 0.1151953554476922, iteration 235\n",
            "f(x) =  4.2188637837946406* x + 2.2098322953988077, with mse 0.11441772997238456, iteration 236\n",
            "f(x) =  4.218123813635891* x + 2.212503822463153, with mse 0.11364535385263906, iteration 237\n",
            "f(x) =  4.217386345288206* x + 2.2151663171957363, with mse 0.1128781916527164, iteration 238\n",
            "f(x) =  4.216651370293056* x + 2.2178198101345292, with mse 0.11211620817608597, iteration 239\n",
            "f(x) =  4.215918880220512* x + 2.2204643317142554, with mse 0.11135936846380981, iteration 240\n",
            "f(x) =  4.215188866669144* x + 2.2230999122667394, with mse 0.11060763779294136, iteration 241\n",
            "f(x) =  4.214461321265928* x + 2.225726582021256, with mse 0.10986098167493186, iteration 242\n",
            "f(x) =  4.213736235666148* x + 2.228344371104875, with mse 0.10911936585404498, iteration 243\n",
            "f(x) =  4.213013601553303* x + 2.2309533095428087, with mse 0.10838275630578882, iteration 244\n",
            "f(x) =  4.212293410639008* x + 2.2335534272587543, with mse 0.1076511192353547, iteration 245\n",
            "f(x) =  4.211575654662901* x + 2.2361447540752386, with mse 0.1069244210760632, iteration 246\n",
            "f(x) =  4.210860325392548* x + 2.2387273197139597, with mse 0.10620262848782841, iteration 247\n",
            "f(x) =  4.21014741462335* x + 2.241301153796128, with mse 0.10548570835562554, iteration 248\n",
            "f(x) =  4.209436914178445* x + 2.2438662858428042, with mse 0.10477362778797282, iteration 249\n",
            "f(x) =  4.208728815908619* x + 2.2464227452752414, with mse 0.10406635411542219, iteration 250\n",
            "f(x) =  4.208023111692208* x + 2.2489705614152196, with mse 0.1033638548890594, iteration 251\n",
            "f(x) =  4.207319793435009* x + 2.2515097634853825, with mse 0.1026660978790192, iteration 252\n",
            "f(x) =  4.206618853070184* x + 2.2540403806095743, with mse 0.10197305107300172, iteration 253\n",
            "f(x) =  4.205920282558169* x + 2.256562441813172, with mse 0.10128468267480531, iteration 254\n",
            "f(x) =  4.205224073886582* x + 2.2590759760234183, with mse 0.10060096110287008, iteration 255\n",
            "f(x) =  4.204530219070128* x + 2.261581012069755, with mse 0.09992185498882653, iteration 256\n",
            "f(x) =  4.203838710150515* x + 2.264077578684152, with mse 0.09924733317605616, iteration 257\n",
            "f(x) =  4.203149539196352* x + 2.266565704501438, with mse 0.09857736471826464, iteration 258\n",
            "f(x) =  4.202462698303068* x + 2.269045418059628, with mse 0.09791191887806032, iteration 259\n",
            "f(x) =  4.201778179592815* x + 2.271516747800251, with mse 0.0972509651255421, iteration 260\n",
            "f(x) =  4.201095975214381* x + 2.273979722068677, with mse 0.09659447313690311, iteration 261\n",
            "f(x) =  4.200416077343096* x + 2.276434369114441, with mse 0.09594241279303548, iteration 262\n",
            "f(x) =  4.199738478180748* x + 2.278880717091566, with mse 0.09529475417815192, iteration 263\n",
            "f(x) =  4.1990631699554894* x + 2.28131879405889, with mse 0.0946514675784097, iteration 264\n",
            "f(x) =  4.198390144921748* x + 2.283748627980383, with mse 0.0940125234805495, iteration 265\n",
            "f(x) =  4.19771939536014* x + 2.2861702467254705, with mse 0.093377892570542, iteration 266\n",
            "f(x) =  4.197050913577382* x + 2.2885836780693527, with mse 0.09274754573224075, iteration 267\n",
            "f(x) =  4.1963846919061965* x + 2.2909889496933227, with mse 0.09212145404605038, iteration 268\n",
            "f(x) =  4.195720722705234* x + 2.2933860891850846, with mse 0.091499588787593, iteration 269\n",
            "f(x) =  4.195058998358977* x + 2.2957751240390687, with mse 0.09088192142639721, iteration 270\n",
            "f(x) =  4.194399511277658* x + 2.2981560816567486, with mse 0.09026842362458597, iteration 271\n",
            "f(x) =  4.1937422538971685* x + 2.300528989346954, with mse 0.0896590672355765, iteration 272\n",
            "f(x) =  4.193087218678974* x + 2.302893874326185, with mse 0.08905382430278865, iteration 273\n",
            "f(x) =  4.192434398110028* x + 2.305250763718923, with mse 0.08845266705836459, iteration 274\n",
            "f(x) =  4.191783784702687* x + 2.3075996845579425, with mse 0.08785556792189203, iteration 275\n",
            "f(x) =  4.191135370994619* x + 2.3099406637846225, with mse 0.08726249949914047, iteration 276\n",
            "f(x) =  4.190489149548726* x + 2.3122737282492527, with mse 0.08667343458080415, iteration 277\n",
            "f(x) =  4.189845112953051* x + 2.314598904711344, with mse 0.08608834614125312, iteration 278\n",
            "f(x) =  4.1892032538207* x + 2.3169162198399342, with mse 0.08550720733729451, iteration 279\n",
            "f(x) =  4.1885635647897494* x + 2.3192257002138934, with mse 0.08492999150693888, iteration 280\n",
            "f(x) =  4.187926038523171* x + 2.3215273723222305, with mse 0.08435667216817934, iteration 281\n",
            "f(x) =  4.18729066770874* x + 2.3238212625643957, with mse 0.08378722301777586, iteration 282\n",
            "f(x) =  4.1866574450589535* x + 2.3261073972505835, with mse 0.08322161793004751, iteration 283\n",
            "f(x) =  4.1860263633109485* x + 2.3283858026020345, with mse 0.08265983095567578, iteration 284\n",
            "f(x) =  4.185397415226418* x + 2.330656504751337, with mse 0.08210183632051041, iteration 285\n",
            "f(x) =  4.184770593591526* x + 2.332919529742725, with mse 0.08154760842439225, iteration 286\n",
            "f(x) =  4.184145891216827* x + 2.335174903532379, with mse 0.08099712183997465, iteration 287\n",
            "f(x) =  4.183523300937182* x + 2.337422651988722, with mse 0.0804503513115576, iteration 288\n",
            "f(x) =  4.182902815611679* x + 2.3396628008927163, with mse 0.07990727175392998, iteration 289\n",
            "f(x) =  4.1822844281235465* x + 2.341895375938161, with mse 0.0793678582512186, iteration 290\n",
            "f(x) =  4.181668131380077* x + 2.3441204027319853, with mse 0.07883208605574316, iteration 291\n",
            "f(x) =  4.181053918312541* x + 2.346337906794541, with mse 0.0782999305868854, iteration 292\n",
            "f(x) =  4.18044178187611* x + 2.3485479135598974, with mse 0.077771367429955, iteration 293\n",
            "f(x) =  4.1798317150497715* x + 2.350750448376133, with mse 0.07724637233507457, iteration 294\n",
            "f(x) =  4.179223710836254* x + 2.352945536505624, with mse 0.07672492121606583, iteration 295\n",
            "f(x) =  4.178617762261941* x + 2.3551332031253365, with mse 0.07620699014934257, iteration 296\n",
            "f(x) =  4.178013862376794* x + 2.3573134733271135, with mse 0.07569255537281633, iteration 297\n",
            "f(x) =  4.177412004254273* x + 2.3594863721179635, with mse 0.07518159328480267, iteration 298\n",
            "f(x) =  4.176812180991255* x + 2.361651924420348, with mse 0.07467408044294162, iteration 299\n",
            "f(x) =  4.176214385707958* x + 2.363810155072466, with mse 0.07416999356312001, iteration 300\n",
            "f(x) =  4.1756186115478595* x + 2.365961088828539, with mse 0.0736693095184037, iteration 301\n",
            "f(x) =  4.175024851677618* x + 2.368104750359097, with mse 0.07317200533797767, iteration 302\n",
            "f(x) =  4.174433099286996* x + 2.370241164251258, with mse 0.07267805820609094, iteration 303\n",
            "f(x) =  4.1738433475887815* x + 2.372370355009013, with mse 0.07218744546100828, iteration 304\n",
            "f(x) =  4.173255589818709* x + 2.374492347053506, with mse 0.07170014459397546, iteration 305\n",
            "f(x) =  4.172669819235383* x + 2.3766071647233136, with mse 0.07121613324818064, iteration 306\n",
            "f(x) =  4.1720860291202* x + 2.3787148322747242, with mse 0.07073538921773385, iteration 307\n",
            "f(x) =  4.171504212777272* x + 2.380815373882018, with mse 0.07025789044664486, iteration 308\n",
            "f(x) =  4.170924363533351* x + 2.382908813637741, with mse 0.06978361502781084, iteration 309\n",
            "f(x) =  4.17034647473775* x + 2.3849951755529855, with mse 0.06931254120201508, iteration 310\n",
            "f(x) =  4.169770539762266* x + 2.3870744835576607, with mse 0.06884464735692469, iteration 311\n",
            "f(x) =  4.169196552001107* x + 2.3891467615007715, with mse 0.0683799120261014, iteration 312\n",
            "f(x) =  4.1686245048708175* x + 2.3912120331506896, with mse 0.06791831388801563, iteration 313\n",
            "f(x) =  4.168054391810196* x + 2.393270322195427, with mse 0.06745983176506926, iteration 314\n",
            "f(x) =  4.167486206280228* x + 2.395321652242907, with mse 0.06700444462262227, iteration 315\n",
            "f(x) =  4.166919941764004* x + 2.397366046821235, with mse 0.06655213156803007, iteration 316\n",
            "f(x) =  4.166355591766648* x + 2.3994035293789704, with mse 0.06610287184968372, iteration 317\n",
            "f(x) =  4.165793149815247* x + 2.401434123285392, with mse 0.06565664485605603, iteration 318\n",
            "f(x) =  4.165232609458769* x + 2.4034578518307694, with mse 0.06521343011475926, iteration 319\n",
            "f(x) =  4.164673964267994* x + 2.4054747382266277, with mse 0.06477320729160571, iteration 320\n",
            "f(x) =  4.164117207835438* x + 2.4074848056060154, with mse 0.06433595618967024, iteration 321\n",
            "f(x) =  4.163562333775281* x + 2.4094880770237688, with mse 0.06390165674837009, iteration 322\n",
            "f(x) =  4.163009335723293* x + 2.4114845754567766, with mse 0.06347028904253928, iteration 323\n",
            "f(x) =  4.162458207336762* x + 2.4134743238042433, with mse 0.0630418332815164, iteration 324\n",
            "f(x) =  4.16190894229442* x + 2.415457344887953, with mse 0.06261626980823914, iteration 325\n",
            "f(x) =  4.16136153429637* x + 2.4174336614525287, with mse 0.06219357909833704, iteration 326\n",
            "f(x) =  4.160815977064017* x + 2.419403296165696, with mse 0.0617737417592401, iteration 327\n",
            "f(x) =  4.160272264339992* x + 2.421366271618541, with mse 0.061356738529290016, iteration 328\n",
            "f(x) =  4.159730389888081* x + 2.4233226103257706, with mse 0.06094255027684914, iteration 329\n",
            "f(x) =  4.159190347493157* x + 2.42527233472597, with mse 0.060531157999432074, iteration 330\n",
            "f(x) =  4.158652130961104* x + 2.4272154671818615, with mse 0.06012254282282853, iteration 331\n",
            "f(x) =  4.158115734118749* x + 2.4291520299805582, with mse 0.05971668600023694, iteration 332\n",
            "f(x) =  4.157581150813791* x + 2.431082045333822, with mse 0.059313568911407516, iteration 333\n",
            "f(x) =  4.157048374914728* x + 2.433005535378318, with mse 0.05891317306178622, iteration 334\n",
            "f(x) =  4.156517400310789* x + 2.434922522175868, with mse 0.058515480081666155, iteration 335\n",
            "f(x) =  4.155988220911864* x + 2.4368330277137034, with mse 0.05812047172534385, iteration 336\n",
            "f(x) =  4.1554608306484315* x + 2.4387370739047176, with mse 0.0577281298702853, iteration 337\n",
            "f(x) =  4.154935223471494* x + 2.440634682587717, with mse 0.05733843651629068, iteration 338\n",
            "f(x) =  4.154411393352502* x + 2.4425258755276733, with mse 0.05695137378467227, iteration 339\n",
            "f(x) =  4.153889334283291* x + 2.4444106744159697, with mse 0.05656692391743067, iteration 340\n",
            "f(x) =  4.153369040276009* x + 2.446289100870653, with mse 0.056185069276442824, iteration 341\n",
            "f(x) =  4.152850505363047* x + 2.4481611764366793, with mse 0.05580579234265085, iteration 342\n",
            "f(x) =  4.152333723596976* x + 2.450026922586163, with mse 0.05542907571526019, iteration 343\n",
            "f(x) =  4.151818689050471* x + 2.451886360718621, with mse 0.055054902110938456, iteration 344\n",
            "f(x) =  4.151305395816251* x + 2.4537395121612207, with mse 0.05468325436302715, iteration 345\n",
            "f(x) =  4.150793838007003* x + 2.455586398169021, with mse 0.05431411542074828, iteration 346\n",
            "f(x) =  4.150284009755321* x + 2.4574270399252205, with mse 0.05394746834842659, iteration 347\n",
            "f(x) =  4.149775905213637* x + 2.459261458541397, with mse 0.05358329632471053, iteration 348\n",
            "f(x) =  4.149269518554154* x + 2.461089675057751, with mse 0.05322158264180147, iteration 349\n",
            "f(x) =  4.148764843968775* x + 2.4629117104433464, with mse 0.05286231070468517, iteration 350\n",
            "f(x) =  4.148261875669044* x + 2.464727585596353, with mse 0.05250546403037448, iteration 351\n",
            "f(x) =  4.147760607886073* x + 2.4665373213442834, with mse 0.05215102624714815, iteration 352\n",
            "f(x) =  4.14726103487048* x + 2.4683409384442334, with mse 0.05179898109380343, iteration 353\n",
            "f(x) =  4.146763150892321* x + 2.47013845758312, with mse 0.05144931241890778, iteration 354\n",
            "f(x) =  4.146266950241023* x + 2.471929899377918, with mse 0.051102004180059724, iteration 355\n",
            "f(x) =  4.145772427225324* x + 2.4737152843758983, with mse 0.05075704044315247, iteration 356\n",
            "f(x) =  4.145279576173198* x + 2.475494633054861, with mse 0.05041440538163982, iteration 357\n",
            "f(x) =  4.144788391431803* x + 2.477267965823372, with mse 0.05007408327581439, iteration 358\n",
            "f(x) =  4.144298867367404* x + 2.4790353030209964, with mse 0.04973605851208499, iteration 359\n",
            "f(x) =  4.143810998365315* x + 2.4807966649185325, with mse 0.04940031558225886, iteration 360\n",
            "f(x) =  4.143324778829834* x + 2.482552071718243, with mse 0.04906683908283138, iteration 361\n",
            "f(x) =  4.142840203184176* x + 2.4843015435540883, with mse 0.04873561371427984, iteration 362\n",
            "f(x) =  4.1423572658704115* x + 2.486045100491956, with mse 0.04840662428035966, iteration 363\n",
            "f(x) =  4.141875961349403* x + 2.4877827625298923, with mse 0.04807985568740969, iteration 364\n",
            "f(x) =  4.1413962841007415* x + 2.48951454959833, with mse 0.047755292943657046, iteration 365\n",
            "f(x) =  4.140918228622678* x + 2.491240481560319, with mse 0.047432921158532496, iteration 366\n",
            "f(x) =  4.14044178943207* x + 2.492960578211752, with mse 0.04711272554198349, iteration 367\n",
            "f(x) =  4.139966961064309* x + 2.494674859281593, with mse 0.04679469140379973, iteration 368\n",
            "f(x) =  4.1394937380732655* x + 2.4963833444321026, with mse 0.04647880415293513, iteration 369\n",
            "f(x) =  4.139022115031221* x + 2.4980860532590645, with mse 0.04616504929684175, iteration 370\n",
            "f(x) =  4.138552086528808* x + 2.49978300529201, with mse 0.045853412440802294, iteration 371\n",
            "f(x) =  4.13808364717495* x + 2.5014742199944413, with mse 0.045543879287272354, iteration 372\n",
            "f(x) =  4.137616791596795* x + 2.5031597167640554, with mse 0.045236435635221874, iteration 373\n",
            "f(x) =  4.1371515144396565* x + 2.5048395149329665, with mse 0.04493106737948488, iteration 374\n",
            "f(x) =  4.136687810366954* x + 2.506513633767928, with mse 0.044627760510113273, iteration 375\n",
            "f(x) =  4.136225674060149* x + 2.5081820924705522, with mse 0.044326501111730865, iteration 376\n",
            "f(x) =  4.135765100218682* x + 2.509844910177532, with mse 0.044027275362899625, iteration 377\n",
            "f(x) =  4.135306083559921* x + 2.5115021059608607, with mse 0.043730069535481315, iteration 378\n",
            "f(x) =  4.1348486188190865* x + 2.5131536988280483, with mse 0.04343486999401066, iteration 379\n",
            "f(x) =  4.1343927007492045* x + 2.514799707722342, with mse 0.04314166319506649, iteration 380\n",
            "f(x) =  4.133938324121039* x + 2.516440151522943, with mse 0.04285043568665509, iteration 381\n",
            "f(x) =  4.1334854837230335* x + 2.5180750490452217, with mse 0.042561174107588515, iteration 382\n",
            "f(x) =  4.133034174361253* x + 2.5197044190409352, with mse 0.04227386518687363, iteration 383\n",
            "f(x) =  4.132584390859321* x + 2.5213282801984414, with mse 0.041988495743103295, iteration 384\n",
            "f(x) =  4.132136128058364* x + 2.522946651142913, with mse 0.04170505268385194, iteration 385\n",
            "f(x) =  4.131689380816949* x + 2.524559550436553, with mse 0.041423523005072856, iteration 386\n",
            "f(x) =  4.131244144011027* x + 2.5261669965788047, with mse 0.04114389379050503, iteration 387\n",
            "f(x) =  4.130800412533873* x + 2.527769008006567, with mse 0.040866152211076916, iteration 388\n",
            "f(x) =  4.130358181296026* x + 2.5293656030944036, with mse 0.04059028552431987, iteration 389\n",
            "f(x) =  4.129917445225236* x + 2.5309568001547538, with mse 0.040316281073784425, iteration 390\n",
            "f(x) =  4.129478199266399* x + 2.5325426174381445, with mse 0.0400441262884566, iteration 391\n",
            "f(x) =  4.1290404383815025* x + 2.5341230731333977, with mse 0.03977380868218411, iteration 392\n",
            "f(x) =  4.128604157549568* x + 2.5356981853678398, with mse 0.03950531585310191, iteration 393\n",
            "f(x) =  4.1281693517665925* x + 2.5372679722075087, with mse 0.03923863548306397, iteration 394\n",
            "f(x) =  4.127736016045492* x + 2.538832451657363, with mse 0.03897375533707797, iteration 395\n",
            "f(x) =  4.1273041454160415* x + 2.5403916416614862, with mse 0.03871066326274295, iteration 396\n",
            "f(x) =  4.126873734924823* x + 2.541945560103294, with mse 0.038449347189693034, iteration 397\n",
            "f(x) =  4.126444779635165* x + 2.543494224805739, with mse 0.03818979512904408, iteration 398\n",
            "f(x) =  4.126017274627084* x + 2.545037653531514, with mse 0.03793199517284172, iteration 399\n",
            "f(x) =  4.125591214997234* x + 2.5465758639832585, with mse 0.03767593549351742, iteration 400\n",
            "f(x) =  4.125166595858847* x + 2.548108873803759, with mse 0.03742160434334248, iteration 401\n",
            "f(x) =  4.124743412341675* x + 2.549636700576153, with mse 0.03716899005389351, iteration 402\n",
            "f(x) =  4.124321659591938* x + 2.5511593618241295, with mse 0.03691808103551322, iteration 403\n",
            "f(x) =  4.123901332772263* x + 2.5526768750121307, with mse 0.036668865776780926, iteration 404\n",
            "f(x) =  4.123482427061638* x + 2.5541892575455525, with mse 0.036421332843983224, iteration 405\n",
            "f(x) =  4.123064937655344* x + 2.555696526770943, with mse 0.036175470880590005, iteration 406\n",
            "f(x) =  4.122648859764912* x + 2.5571986999762037, with mse 0.03593126860673393, iteration 407\n",
            "f(x) =  4.122234188618059* x + 2.558695794390785, with mse 0.035688714818691666, iteration 408\n",
            "f(x) =  4.121820919458639* x + 2.5601878271858856, with mse 0.035447798388371136, iteration 409\n",
            "f(x) =  4.121409047546585* x + 2.5616748154746496, with mse 0.03520850826279931, iteration 410\n",
            "f(x) =  4.120998568157858* x + 2.5631567763123613, with mse 0.03497083346361734, iteration 411\n",
            "f(x) =  4.120589476584388* x + 2.5646337266966426, with mse 0.03473476308657535, iteration 412\n",
            "f(x) =  4.120181768134024* x + 2.5661056835676463, with mse 0.034500286301032045, iteration 413\n",
            "f(x) =  4.11977543813048* x + 2.567572663808252, with mse 0.03426739234945896, iteration 414\n",
            "f(x) =  4.119370481913279* x + 2.5690346842442584, with mse 0.03403607054694613, iteration 415\n",
            "f(x) =  4.118966894837702* x + 2.5704917616445764, with mse 0.03380631028071132, iteration 416\n",
            "f(x) =  4.118564672274733* x + 2.5719439127214225, with mse 0.03357810100961455, iteration 417\n",
            "f(x) =  4.118163809611007* x + 2.57339115413051, with mse 0.03335143226367405, iteration 418\n",
            "f(x) =  4.117764302248754* x + 2.5748335024712397, with mse 0.03312629364358462, iteration 419\n",
            "f(x) =  4.117366145605754* x + 2.5762709742868894, with mse 0.03290267482024189, iteration 420\n",
            "f(x) =  4.116969335115274* x + 2.5777035860648065, with mse 0.03268056553426817, iteration 421\n",
            "f(x) =  4.116573866226026* x + 2.579131354236594, with mse 0.032459955595541726, iteration 422\n",
            "f(x) =  4.116179734402104* x + 2.5805542951783007, with mse 0.03224083488272875, iteration 423\n",
            "f(x) =  4.1157869351229435* x + 2.5819724252106084, with mse 0.03202319334281981, iteration 424\n",
            "f(x) =  4.115395463883259* x + 2.5833857605990196, with mse 0.03180702099066828, iteration 425\n",
            "f(x) =  4.115005316193001* x + 2.5847943175540435, with mse 0.03159230790853174, iteration 426\n",
            "f(x) =  4.114616487577298* x + 2.586198112231383, with mse 0.031379044245617695, iteration 427\n",
            "f(x) =  4.1142289735764095* x + 2.587597160732117, with mse 0.031167220217632116, iteration 428\n",
            "f(x) =  4.1138427697456725* x + 2.5889914791028903, with mse 0.030956826106328435, iteration 429\n",
            "f(x) =  4.113457871655451* x + 2.590381083336092, with mse 0.03074785225906375, iteration 430\n",
            "f(x) =  4.113074274891087* x + 2.5917659893700433, with mse 0.030540289088354978, iteration 431\n",
            "f(x) =  4.1126919750528455* x + 2.5931462130891774, with mse 0.030334127071439856, iteration 432\n",
            "f(x) =  4.112310967755869* x + 2.594521770324223, with mse 0.030129356749839, iteration 433\n",
            "f(x) =  4.111931248630125* x + 2.5958926768523862, with mse 0.02992596872892237, iteration 434\n",
            "f(x) =  4.111552813320354* x + 2.597258948397531, with mse 0.029723953677478376, iteration 435\n",
            "f(x) =  4.111175657486024* x + 2.598620600630359, with mse 0.02952330232728629, iteration 436\n",
            "f(x) =  4.110799776801278* x + 2.5999776491685904, with mse 0.02932400547268911, iteration 437\n",
            "f(x) =  4.110425166954881* x + 2.601330109577142, with mse 0.029126053970174506, iteration 438\n",
            "f(x) =  4.110051823650179* x + 2.602677997368306, with mse 0.02892943873795122, iteration 439\n",
            "f(x) =  4.109679742605041* x + 2.604021328001929, with mse 0.02873415075553607, iteration 440\n",
            "f(x) =  4.109308919551816* x + 2.605360116885588, with mse 0.0285401810633381, iteration 441\n",
            "f(x) =  4.108939350237281* x + 2.6066943793747672, with mse 0.028347520762247835, iteration 442\n",
            "f(x) =  4.108571030422594* x + 2.608024130773035, with mse 0.02815616101322986, iteration 443\n",
            "f(x) =  4.108203955883241* x + 2.6093493863322186, with mse 0.027966093036915697, iteration 444\n",
            "f(x) =  4.107838122408994* x + 2.6106701612525796, with mse 0.027777308113202327, iteration 445\n",
            "f(x) =  4.107473525803861* x + 2.6119864706829885, with mse 0.0275897975808517, iteration 446\n",
            "f(x) =  4.107110161886032* x + 2.613298329721097, with mse 0.027403552837094378, iteration 447\n",
            "f(x) =  4.106748026487839* x + 2.614605753413513, with mse 0.027218565337231715, iteration 448\n",
            "f(x) =  4.1063871154557035* x + 2.6159087567559722, with mse 0.027034826594247663, iteration 449\n",
            "f(x) =  4.10602742465009* x + 2.6172073546935106, with mse 0.02685232817841729, iteration 450\n",
            "f(x) =  4.10566894994546* x + 2.618501562120635, with mse 0.026671061716920776, iteration 451\n",
            "f(x) =  4.105311687230221* x + 2.6197913938814947, with mse 0.026491018893458358, iteration 452\n",
            "f(x) =  4.104955632406682* x + 2.6210768647700515, with mse 0.026312191447869615, iteration 453\n",
            "f(x) =  4.104600781391009* x + 2.62235798953025, with mse 0.02613457117575432, iteration 454\n",
            "f(x) =  4.104247130113172* x + 2.6236347828561843, with mse 0.02595814992809647, iteration 455\n",
            "f(x) =  4.103894674516903* x + 2.62490725939227, with mse 0.025782919610888678, iteration 456\n",
            "f(x) =  4.103543410559649* x + 2.6261754337334104, with mse 0.02560887218476371, iteration 457\n",
            "f(x) =  4.103193334212521* x + 2.627439320425163, with mse 0.025435999664623156, iteration 458\n",
            "f(x) =  4.102844441460256* x + 2.6286989339639084, with mse 0.025264294119271388, iteration 459\n",
            "f(x) =  4.1024967283011655* x + 2.629954288797015, with mse 0.025093747671053303, iteration 460\n",
            "f(x) =  4.102150190747088* x + 2.6312053993230045, with mse 0.02492435249549208, iteration 461\n",
            "f(x) =  4.101804824823349* x + 2.632452279891719, with mse 0.024756100820928315, iteration 462\n",
            "f(x) =  4.101460626568709* x + 2.6336949448044837, with mse 0.024588984928166524, iteration 463\n",
            "f(x) =  4.101117592035324* x + 2.6349334083142715, with mse 0.02442299715011962, iteration 464\n",
            "f(x) =  4.1007757172886965* x + 2.6361676846258666, with mse 0.02425812987145655, iteration 465\n",
            "f(x) =  4.100434998407631* x + 2.6373977878960275, with mse 0.02409437552825391, iteration 466\n",
            "f(x) =  4.10009543148419* x + 2.638623732233649, with mse 0.023931726607647856, iteration 467\n",
            "f(x) =  4.099757012623649* x + 2.6398455316999248, with mse 0.023770175647491086, iteration 468\n",
            "f(x) =  4.099419737944451* x + 2.6410632003085075, with mse 0.023609715236008258, iteration 469\n",
            "f(x) =  4.099083603578161* x + 2.6422767520256705, with mse 0.02345033801145867, iteration 470\n",
            "f(x) =  4.098748605669425* x + 2.6434862007704676, with mse 0.02329203666179548, iteration 471\n",
            "f(x) =  4.098414740375924* x + 2.6446915604148926, with mse 0.02313480392433297, iteration 472\n",
            "f(x) =  4.098082003868328* x + 2.6458928447840395, with mse 0.02297863258541129, iteration 473\n",
            "f(x) =  4.097750392330253* x + 2.647090067656259, with mse 0.022823515480067308, iteration 474\n",
            "f(x) =  4.097419901958222* x + 2.648283242763319, with mse 0.022669445491703633, iteration 475\n",
            "f(x) =  4.097090528961614* x + 2.649472383790559, with mse 0.022516415551764465, iteration 476\n",
            "f(x) =  4.096762269562625* x + 2.650657504377051, with mse 0.02236441863940977, iteration 477\n",
            "f(x) =  4.096435119996224* x + 2.6518386181157525, with mse 0.022213447781193663, iteration 478\n",
            "f(x) =  4.09610907651011* x + 2.653015738553664, with mse 0.02206349605074479, iteration 479\n",
            "f(x) =  4.095784135364665* x + 2.654188879191984, with mse 0.021914556568447683, iteration 480\n",
            "f(x) =  4.09546029283292* x + 2.6553580534862644, with mse 0.021766622501128277, iteration 481\n",
            "f(x) =  4.095137545200502* x + 2.656523274846564, with mse 0.02161968706173924, iteration 482\n",
            "f(x) =  4.094815888765598* x + 2.657684556637603, with mse 0.021473743509049487, iteration 483\n",
            "f(x) =  4.09449531983891* x + 2.658841912178915, with mse 0.021328785147334828, iteration 484\n",
            "f(x) =  4.0941758347436155* x + 2.659995354745002, with mse 0.0211848053260697, iteration 485\n",
            "f(x) =  4.09385742981532* x + 2.6611448975654852, with mse 0.02104179743962388, iteration 486\n",
            "f(x) =  4.093540101402021* x + 2.6622905538252564, with mse 0.020899754926957115, iteration 487\n",
            "f(x) =  4.093223845864061* x + 2.66343233666463, with mse 0.02075867127132073, iteration 488\n",
            "f(x) =  4.092908659574089* x + 2.6645702591794937, with mse 0.020618539999956886, iteration 489\n",
            "f(x) =  4.0925945389170195* x + 2.6657043344214584, with mse 0.020479354683801805, iteration 490\n",
            "f(x) =  4.092281480289988* x + 2.666834575398008, with mse 0.0203411089371907, iteration 491\n",
            "f(x) =  4.0919694801023105* x + 2.6679609950726486, with mse 0.020203796417566117, iteration 492\n",
            "f(x) =  4.091658534775443* x + 2.669083606365057, with mse 0.020067410825185546, iteration 493\n",
            "f(x) =  4.091348640742942* x + 2.6702024221512293, with mse 0.01993194590283298, iteration 494\n",
            "f(x) =  4.091039794450421* x + 2.6713174552636283, with mse 0.01979739543553127, iteration 495\n",
            "f(x) =  4.0907319923555105* x + 2.6724287184913305, with mse 0.019663753250257474, iteration 496\n",
            "f(x) =  4.090425230927818* x + 2.673536224580173, with mse 0.019531013215660434, iteration 497\n",
            "f(x) =  4.090119506648888* x + 2.6746399862329007, with mse 0.01939916924177741, iteration 498\n",
            "f(x) =  4.089814816012159* x + 2.6757400161093092, with mse 0.019268215279757406, iteration 499\n",
            "f(x) =  4.089511155522925* x + 2.6768363268263937, with mse 0.019138145321580438, iteration 500\n",
            "f(x) =  4.089208521698298* x + 2.6779289309584904, with mse 0.019008953399784992, iteration 501\n",
            "f(x) =  4.088906911067163* x + 2.679017841037423, with mse 0.018880633587192264, iteration 502\n",
            "f(x) =  4.0886063201701415* x + 2.6801030695526444, with mse 0.01875317999663483, iteration 503\n",
            "f(x) =  4.088306745559552* x + 2.681184628951383, with mse 0.018626586780686932, iteration 504\n",
            "f(x) =  4.088008183799368* x + 2.682262531638782, with mse 0.018500848131395055, iteration 505\n",
            "f(x) =  4.08771063146518* x + 2.6833367899780445, with mse 0.018375958280012917, iteration 506\n",
            "f(x) =  4.087414085144158* x + 2.684407416290573, with mse 0.01825191149673597, iteration 507\n",
            "f(x) =  4.087118541435009* x + 2.685474422856112, with mse 0.018128702090438733, iteration 508\n",
            "f(x) =  4.08682399694794* x + 2.6865378219128893, with mse 0.01800632440841344, iteration 509\n",
            "f(x) =  4.08653044830462* x + 2.687597625657755, with mse 0.017884772836110892, iteration 510\n",
            "f(x) =  4.086237892138138* x + 2.6886538462463228, with mse 0.01776404179688284, iteration 511\n",
            "f(x) =  4.085946325092968* x + 2.689706495793108, with mse 0.017644125751726074, iteration 512\n",
            "f(x) =  4.085655743824929* x + 2.690755586371668, with mse 0.017525019199029396, iteration 513\n",
            "f(x) =  4.085366145001144* x + 2.691801130014739, with mse 0.0174067166743188, iteration 514\n",
            "f(x) =  4.085077525300008* x + 2.6928431387143754, with mse 0.01728921275000862, iteration 515\n",
            "f(x) =  4.084789881411144* x + 2.6938816244220876, with mse 0.017172502035152453, iteration 516\n",
            "f(x) =  4.084503210035367* x + 2.694916599048977, with mse 0.017056579175194948, iteration 517\n",
            "f(x) =  4.084217507884647* x + 2.6959480744658757, with mse 0.01694143885172716, iteration 518\n",
            "f(x) =  4.083932771682072* x + 2.6969760625034795, with mse 0.016827075782241647, iteration 519\n",
            "f(x) =  4.083648998161808* x + 2.6980005749524856, with mse 0.01671348471989094, iteration 520\n",
            "f(x) =  4.083366184069061* x + 2.6990216235637274, with mse 0.016600660453245136, iteration 521\n",
            "f(x) =  4.083084326160044* x + 2.700039220048309, with mse 0.016488597806056087, iteration 522\n",
            "f(x) =  4.082803421201936* x + 2.7010533760777404, with mse 0.016377291637016324, iteration 523\n",
            "f(x) =  4.082523465972845* x + 2.7020641032840693, with mse 0.01626673683952477, iteration 524\n",
            "f(x) =  4.082244457261775* x + 2.7030714132600173, with mse 0.01615692834145303, iteration 525\n",
            "f(x) =  4.081966391868583* x + 2.7040753175591106, with mse 0.016047861104912155, iteration 526\n",
            "f(x) =  4.081689266603949* x + 2.7050758276958136, with mse 0.01593953012602076, iteration 527\n",
            "f(x) =  4.081413078289331* x + 2.70607295514566, with mse 0.015831930434677156, iteration 528\n",
            "f(x) =  4.081137823756938* x + 2.7070667113453872, with mse 0.01572505709432881, iteration 529\n",
            "f(x) =  4.080863499849689* x + 2.708057107693063, with mse 0.015618905201748731, iteration 530\n",
            "f(x) =  4.080590103421174* x + 2.7090441555482205, with mse 0.01551346988680822, iteration 531\n",
            "f(x) =  4.080317631335622* x + 2.710027866231986, with mse 0.01540874631225519, iteration 532\n",
            "f(x) =  4.080046080467866* x + 2.711008251027209, with mse 0.015304729673490648, iteration 533\n",
            "f(x) =  4.0797754477033035* x + 2.711985321178593, with mse 0.015201415198349333, iteration 534\n",
            "f(x) =  4.079505729937861* x + 2.712959087892823, with mse 0.015098798146880352, iteration 535\n",
            "f(x) =  4.0792369240779625* x + 2.713929562338695, with mse 0.014996873811129999, iteration 536\n",
            "f(x) =  4.078969027040489* x + 2.7148967556472434, with mse 0.014895637514925267, iteration 537\n",
            "f(x) =  4.078702035752746* x + 2.715860678911869, with mse 0.014795084613660057, iteration 538\n",
            "f(x) =  4.07843594715243* x + 2.716821343188467, with mse 0.01469521049408134, iteration 539\n",
            "f(x) =  4* x + 3.0, with mse 0.0147 after iteration 539\n"
          ]
        }
      ]
    }
  ]
}