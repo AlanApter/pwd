{
  "nbformat": 4,
  "nbformat_minor": 0,
  "metadata": {
    "colab": {
      "provenance": []
    },
    "kernelspec": {
      "name": "python3",
      "display_name": "Python 3"
    }
  },
  "cells": [
    {
      "cell_type": "code",
      "metadata": {
        "colab": {
          "base_uri": "https://localhost:8080/"
        },
        "id": "xck1yz5sPufs",
        "outputId": "2c3d0754-311f-4f00-9018-a188995e758e"
      },
      "source": [
        "import random\n",
        "\n",
        "alist = []\n",
        "\n",
        "for i in range(1000):\n",
        "  num = random.randint(1,10)\n",
        "  alist.append(num)\n",
        "\n",
        "print(alist)"
      ],
      "execution_count": null,
      "outputs": [
        {
          "output_type": "stream",
          "name": "stdout",
          "text": [
            "[7, 6, 5, 5, 5, 2, 9, 10, 9, 5, 2, 8, 2, 2, 3, 5, 3, 4, 7, 7, 6, 9, 1, 9, 1, 3, 9, 6, 1, 9, 1, 2, 9, 4, 10, 10, 3, 8, 2, 5, 7, 7, 3, 1, 7, 6, 7, 4, 9, 5, 5, 9, 6, 1, 4, 5, 8, 4, 4, 4, 1, 6, 9, 7, 4, 5, 9, 3, 9, 1, 8, 4, 10, 3, 3, 10, 1, 7, 6, 7, 6, 9, 2, 2, 5, 10, 3, 10, 1, 7, 8, 1, 8, 3, 5, 2, 1, 4, 8, 3, 3, 9, 1, 9, 10, 3, 7, 9, 3, 7, 5, 5, 8, 3, 9, 1, 6, 4, 9, 9, 4, 4, 3, 5, 3, 10, 8, 7, 6, 2, 5, 8, 9, 10, 1, 9, 8, 10, 8, 6, 6, 10, 3, 7, 7, 2, 8, 6, 7, 9, 6, 8, 3, 3, 8, 8, 4, 10, 8, 10, 2, 2, 2, 1, 5, 2, 6, 5, 9, 3, 1, 5, 1, 5, 1, 3, 8, 8, 10, 5, 9, 6, 2, 8, 10, 9, 4, 3, 4, 1, 6, 2, 8, 4, 9, 1, 5, 10, 6, 7, 10, 10, 3, 3, 6, 10, 1, 9, 9, 2, 2, 4, 8, 10, 10, 7, 3, 2, 8, 7, 1, 5, 6, 10, 9, 1, 7, 7, 3, 8, 1, 2, 8, 5, 6, 8, 10, 6, 8, 3, 8, 7, 10, 6, 4, 9, 7, 6, 8, 2, 4, 10, 5, 9, 8, 2, 2, 3, 9, 3, 2, 10, 5, 8, 2, 2, 1, 7, 10, 2, 3, 4, 5, 10, 4, 1, 8, 1, 3, 4, 10, 5, 1, 10, 7, 2, 10, 2, 10, 8, 6, 8, 1, 4, 2, 2, 3, 9, 7, 6, 3, 10, 7, 5, 5, 1, 6, 8, 2, 1, 3, 9, 4, 9, 9, 1, 4, 4, 2, 9, 9, 5, 4, 7, 8, 3, 5, 1, 7, 4, 2, 3, 5, 8, 8, 10, 2, 2, 7, 10, 10, 10, 3, 2, 7, 10, 8, 8, 5, 8, 4, 6, 5, 9, 1, 7, 4, 8, 4, 8, 3, 10, 1, 7, 4, 8, 7, 10, 7, 8, 2, 5, 6, 1, 4, 3, 7, 4, 7, 2, 2, 6, 8, 3, 9, 4, 2, 5, 8, 7, 10, 1, 6, 2, 4, 4, 6, 9, 6, 7, 10, 3, 7, 7, 2, 10, 2, 9, 7, 7, 9, 5, 8, 4, 5, 8, 1, 3, 10, 8, 2, 5, 1, 10, 1, 10, 5, 5, 10, 9, 6, 6, 6, 7, 1, 3, 5, 5, 2, 4, 8, 5, 2, 7, 10, 5, 9, 9, 2, 9, 5, 1, 8, 3, 8, 8, 5, 6, 6, 5, 3, 7, 4, 4, 1, 10, 4, 8, 8, 7, 7, 5, 5, 9, 5, 9, 2, 5, 8, 7, 9, 4, 3, 10, 3, 2, 5, 8, 9, 6, 2, 5, 1, 3, 9, 7, 9, 6, 7, 4, 2, 1, 4, 4, 1, 7, 5, 5, 3, 1, 2, 3, 3, 10, 1, 6, 2, 10, 6, 7, 9, 10, 9, 5, 3, 9, 3, 5, 9, 2, 6, 1, 8, 6, 8, 2, 8, 10, 6, 5, 7, 6, 10, 4, 1, 7, 5, 2, 2, 9, 6, 6, 3, 2, 7, 1, 3, 3, 8, 9, 4, 1, 3, 6, 10, 1, 9, 6, 6, 7, 2, 1, 3, 10, 7, 8, 6, 6, 9, 5, 3, 6, 8, 1, 3, 3, 8, 8, 4, 5, 9, 7, 3, 2, 2, 4, 7, 3, 10, 10, 10, 7, 2, 8, 8, 9, 3, 10, 2, 2, 8, 4, 4, 6, 6, 2, 6, 2, 1, 5, 2, 1, 7, 8, 1, 3, 3, 4, 9, 9, 5, 6, 10, 8, 9, 5, 6, 4, 3, 9, 2, 4, 4, 2, 3, 6, 8, 9, 1, 7, 7, 8, 4, 9, 6, 3, 3, 4, 3, 10, 1, 6, 2, 10, 10, 3, 6, 10, 3, 7, 6, 8, 7, 6, 10, 2, 8, 3, 10, 5, 6, 9, 4, 8, 3, 6, 1, 7, 5, 3, 8, 2, 10, 8, 4, 1, 4, 8, 7, 6, 1, 8, 10, 1, 2, 4, 7, 3, 10, 10, 7, 2, 3, 7, 4, 2, 9, 8, 5, 4, 4, 4, 6, 4, 2, 8, 9, 8, 5, 6, 1, 1, 7, 3, 5, 5, 5, 5, 10, 9, 1, 8, 4, 2, 9, 1, 8, 6, 9, 3, 2, 8, 10, 9, 8, 4, 10, 1, 9, 5, 10, 6, 10, 3, 1, 2, 10, 1, 5, 8, 4, 8, 5, 10, 9, 1, 4, 2, 6, 6, 10, 6, 3, 4, 6, 1, 6, 9, 9, 10, 3, 2, 4, 2, 4, 10, 3, 3, 5, 7, 2, 8, 9, 10, 7, 9, 6, 5, 10, 10, 2, 6, 2, 8, 9, 3, 2, 1, 8, 6, 5, 6, 3, 4, 3, 10, 1, 9, 7, 4, 9, 8, 6, 6, 5, 9, 5, 1, 9, 5, 3, 7, 3, 5, 3, 4, 10, 10, 1, 5, 6, 5, 10, 9, 5, 3, 2, 6, 10, 2, 8, 7, 9, 6, 6, 7, 9, 1, 6, 1, 9, 7, 9, 4, 9, 4, 1, 5, 8, 5, 2, 10, 6, 2, 8, 4, 2, 7, 8, 10, 9, 3, 6, 7, 6, 6, 1, 7, 2, 10, 1, 10, 2, 3, 5, 6, 3, 4, 4, 9, 3, 10, 4, 8, 7, 10, 9, 10, 7, 9, 9, 9, 5, 4, 1, 3, 5, 5, 5, 1, 8, 2, 8, 6, 1, 2, 10, 2, 3, 9, 7, 1, 4, 6, 2, 1, 6, 10, 7, 6, 2, 4, 9, 10, 1, 1, 3, 8, 7, 3, 7, 4, 5, 2, 8, 7, 9, 7, 7, 10, 2, 7, 1, 10, 10, 6, 10, 8, 8, 9, 2, 6, 5, 2, 5, 7, 9, 2, 8, 3, 3, 10, 2, 7, 6, 3, 3, 8, 4, 10]\n"
          ]
        }
      ]
    },
    {
      "cell_type": "code",
      "source": [
        "stats = {}\n",
        "for i in alist:\n",
        "    if i in stats:\n",
        "        stats[i] += 1\n",
        "    else:\n",
        "        stats[i] = 1\n",
        "\n",
        "stats"
      ],
      "metadata": {
        "colab": {
          "base_uri": "https://localhost:8080/"
        },
        "id": "dSDzbHiQGU1q",
        "outputId": "4b9e15be-ce67-46ef-c61d-43baec0de417"
      },
      "execution_count": null,
      "outputs": [
        {
          "output_type": "execute_result",
          "data": {
            "text/plain": [
              "{7: 95, 6: 100, 5: 97, 2: 106, 9: 104, 10: 107, 8: 106, 3: 105, 4: 89, 1: 91}"
            ]
          },
          "metadata": {},
          "execution_count": 14
        }
      ]
    },
    {
      "cell_type": "code",
      "source": [
        "import matplotlib.pyplot as plt\n",
        "\n",
        "names = list(stats.keys())\n",
        "values = list(stats.values())\n",
        "\n",
        "plt.bar(range(len(stats)), values, tick_label=names)\n",
        "plt.show()"
      ],
      "metadata": {
        "colab": {
          "base_uri": "https://localhost:8080/",
          "height": 285
        },
        "id": "85Fih6koGb4l",
        "outputId": "b0b05054-4e81-41cf-8946-1f101e015c0c"
      },
      "execution_count": null,
      "outputs": [
        {
          "output_type": "display_data",
          "data": {
            "text/plain": [
              "<Figure size 432x288 with 1 Axes>"
            ],
            "image/png": "[encoded data removed]"
          },
          "metadata": {
            "needs_background": "light"
          }
        }
      ]
    },
    {
      "cell_type": "code",
      "metadata": {
        "id": "xQ7rPg28TmUZ"
      },
      "source": [
        "# 3 inputs: therange, start, end\n",
        "\n",
        "def randomgenerator(therange, start, end):\n",
        "\n",
        "  import random\n",
        "\n",
        "  alist = []\n",
        "\n",
        "  for i in range(therange):\n",
        "    num = random.randint(start,end)\n",
        "    alist.append(num)\n",
        "\n",
        "  return(alist)\n"
      ],
      "execution_count": null,
      "outputs": []
    },
    {
      "cell_type": "code",
      "metadata": {
        "colab": {
          "base_uri": "https://localhost:8080/"
        },
        "id": "nxfV4MuLUDvC",
        "outputId": "71b194af-4c00-474b-caa1-8c0ab86d0464"
      },
      "source": [
        "print(randomgenerator(30,1,100))"
      ],
      "execution_count": null,
      "outputs": [
        {
          "output_type": "stream",
          "text": [
            "[98, 31, 98, 100, 84, 67, 1, 46, 79, 71, 20, 5, 44, 40, 61, 1, 3, 42, 26, 45, 90, 51, 91, 63, 40, 2, 31, 76, 86, 63]\n"
          ],
          "name": "stdout"
        }
      ]
    },
    {
      "cell_type": "code",
      "metadata": {
        "colab": {
          "base_uri": "https://localhost:8080/"
        },
        "id": "3eDDvzd0WCoI",
        "outputId": "7627b43d-e8e6-4ef8-ddfe-968708a40b9c"
      },
      "source": [
        "from random import *\n",
        "\n",
        "print(random() * 100)"
      ],
      "execution_count": null,
      "outputs": [
        {
          "output_type": "stream",
          "text": [
            "73.91701837266872\n"
          ],
          "name": "stdout"
        }
      ]
    },
    {
      "cell_type": "code",
      "metadata": {
        "colab": {
          "base_uri": "https://localhost:8080/"
        },
        "id": "0tc_vq3PWWu6",
        "outputId": "9fb6c566-cbf4-4334-a022-4149b670e0a6"
      },
      "source": [
        "items = ['1','2','3','4','5']\n",
        "\n",
        "shuffle(items)\n",
        "\n",
        "print(items)\n",
        "\n",
        "sel = sample(items,1)\n",
        "print(sel)\n"
      ],
      "execution_count": null,
      "outputs": [
        {
          "output_type": "stream",
          "text": [
            "['2', '4', '3', '1', '5']\n",
            "['5']\n"
          ],
          "name": "stdout"
        }
      ]
    },
    {
      "cell_type": "code",
      "metadata": {
        "colab": {
          "base_uri": "https://localhost:8080/"
        },
        "id": "E2Mfd_6jX43g",
        "outputId": "0cbb2709-21b2-44e2-bcbe-756dc33c4594"
      },
      "source": [
        "random.seed(105)\n",
        "\n",
        "print(randomgenerator(30,1,100))"
      ],
      "execution_count": null,
      "outputs": [
        {
          "output_type": "stream",
          "text": [
            "[76, 45, 75, 14, 1, 40, 68, 99, 74, 43, 38, 21, 45, 22, 97, 19, 13, 85, 51, 45, 22, 56, 79, 50, 59, 64, 87, 30, 91, 24]\n"
          ],
          "name": "stdout"
        }
      ]
    },
    {
      "cell_type": "code",
      "metadata": {
        "colab": {
          "base_uri": "https://localhost:8080/",
          "height": 286
        },
        "id": "coHKtLiqZCGM",
        "outputId": "54fbeacf-05c6-42f6-a7ac-3e4dad943832"
      },
      "source": [
        "import matplotlib.pyplot as plt\n",
        "\n",
        "#x = [1, 3, 4, 8, 12]\n",
        "#y = [1, 35, 16, 20, 5]\n",
        "\n",
        "x = randomgenerator(100,1,100)\n",
        "y = randomgenerator(100,1000,10000)\n",
        "\n",
        "#plt.axis([0,40,0,100])\n",
        "plt.bar(x,y)\n",
        "plt.show()"
      ],
      "execution_count": null,
      "outputs": [
        {
          "output_type": "display_data",
          "data": {
            "image/png": "[encoded data removed]",
            "text/plain": [
              "<Figure size 432x288 with 1 Axes>"
            ]
          },
          "metadata": {
            "tags": [],
            "needs_background": "light"
          }
        }
      ]
    }
  ]
}