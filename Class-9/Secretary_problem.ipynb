{
  "nbformat": 4,
  "nbformat_minor": 0,
  "metadata": {
    "colab": {
      "provenance": []
    },
    "kernelspec": {
      "name": "python3",
      "display_name": "Python 3"
    },
    "language_info": {
      "name": "python"
    }
  },
  "cells": [
    {
      "cell_type": "code",
      "execution_count": 112,
      "metadata": {
        "colab": {
          "base_uri": "https://localhost:8080/"
        },
        "id": "4xh8xZatJBKA",
        "outputId": "ae6f35a9-38f6-4002-bd18-04ec040dacce"
      },
      "outputs": [
        {
          "output_type": "stream",
          "name": "stdout",
          "text": [
            "{'Mary': 1, 'Tom': 5, 'Kate': 3, 'Tim': 4, 'Max': 6, 'Ali': 8, 'John': 4, 'Sarah': 3, 'Nick': 1, 'Chris': 15}\n"
          ]
        }
      ],
      "source": [
        "import math\n",
        "\n",
        "e = 2.71828;\n",
        "\n",
        "n = 10\n",
        "\n",
        "candidates = [1,5,3,4,6,8,4,3,1,5]\n",
        "\n",
        "\n",
        "candidates = {\n",
        "    \"Mary\":1,\n",
        "    \"Tom\":5,\n",
        "    \"Kate\":3,\n",
        "    \"Tim\":4,\n",
        "    \"Max\":6,\n",
        "    \"Ali\":8,\n",
        "    \"John\":4,\n",
        "    \"Sarah\":3,\n",
        "    \"Nick\":1,\n",
        "    \"Chris\":15\n",
        "}\n",
        "\n",
        "print(candidates)\n",
        "\n",
        "new = candidates"
      ]
    },
    {
      "cell_type": "code",
      "source": [
        "sample = len(candidates)/e\n",
        "\n",
        "sample = int(sample)\n",
        "\n",
        "#print(sample)\n",
        "\n",
        "count=0\n",
        "best=0\n",
        "for key,value in candidates.items():\n",
        "  #print(key,value)\n",
        "  candidates[key]= -value\n",
        "  if value>best:\n",
        "    #print(value)\n",
        "    best=value\n",
        "    sample_selection={}\n",
        "    sample_selection[key]=best\n",
        "\n",
        "  if count==sample-1:\n",
        "    break\n",
        "  count+=1\n",
        "\n",
        "print(sample_selection)\n",
        "person= list(sample_selection)\n",
        "#print(person)\n",
        "print(candidates)"
      ],
      "metadata": {
        "colab": {
          "base_uri": "https://localhost:8080/"
        },
        "id": "oRku7S_dKX8m",
        "outputId": "55248d63-9004-4bf0-b44d-6d0f9f9e2083"
      },
      "execution_count": 117,
      "outputs": [
        {
          "output_type": "stream",
          "name": "stdout",
          "text": [
            "{'Tom': 5}\n",
            "{'Mary': -1, 'Tom': -5, 'Kate': -3, 'Tim': 4, 'Max': 6, 'Ali': 8, 'John': 4, 'Sarah': 3, 'Nick': 1, 'Chris': 15}\n"
          ]
        }
      ]
    },
    {
      "cell_type": "code",
      "source": [
        "for key,value in candidates.items():\n",
        "  if candidates[key]>sample_selection[person[0]]:\n",
        "    sel={}\n",
        "    sel[key]=value\n",
        "\n",
        "print(sel)"
      ],
      "metadata": {
        "colab": {
          "base_uri": "https://localhost:8080/"
        },
        "id": "DZJm4YDTN7AH",
        "outputId": "fba8b3cb-506d-4eaa-ebcd-f9dce9de5f68"
      },
      "execution_count": 109,
      "outputs": [
        {
          "output_type": "stream",
          "name": "stdout",
          "text": [
            "{'Chris': 15}\n"
          ]
        }
      ]
    }
  ]
}